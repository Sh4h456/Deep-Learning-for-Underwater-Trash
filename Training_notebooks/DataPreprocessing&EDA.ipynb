{
  "nbformat": 4,
  "nbformat_minor": 0,
  "metadata": {
    "colab": {
      "provenance": []
    },
    "kernelspec": {
      "name": "python3",
      "display_name": "Python 3"
    },
    "language_info": {
      "name": "python"
    }
  },
  "cells": [
    {
      "cell_type": "markdown",
      "source": [
        "Step 1: Loading Dataset and Preprocessing it."
      ],
      "metadata": {
        "id": "F5_tmi65ce80"
      }
    },
    {
      "cell_type": "code",
      "execution_count": null,
      "metadata": {
        "colab": {
          "base_uri": "https://localhost:8080/"
        },
        "id": "HLgktbvWZyqu",
        "outputId": "8092d1a6-f9af-40c2-cd65-1b8f60825d77"
      },
      "outputs": [
        {
          "output_type": "stream",
          "name": "stdout",
          "text": [
            "Mounted at /content/drive\n"
          ]
        }
      ],
      "source": [
        "from google.colab import drive\n",
        "drive.mount('/content/drive')"
      ]
    },
    {
      "cell_type": "code",
      "source": [
        "%cd /content/drive/MyDrive/instance_version/"
      ],
      "metadata": {
        "colab": {
          "base_uri": "https://localhost:8080/"
        },
        "id": "IKDeki7qbhor",
        "outputId": "cdef395f-c9e1-447f-8e6b-2bfe42d4956d"
      },
      "execution_count": null,
      "outputs": [
        {
          "output_type": "stream",
          "name": "stdout",
          "text": [
            "/content/drive/MyDrive/instance_version\n"
          ]
        }
      ]
    },
    {
      "cell_type": "code",
      "source": [
        "import json\n",
        "\n",
        "with open(\"instances_train_trashcan.json\") as f:\n",
        "    train_data = json.load(f)\n",
        "\n",
        "with open(\"instances_val_trashcan.json\") as f:\n",
        "    val_data = json.load(f)\n",
        "\n",
        "print(\"Top-level keys:\", train_data.keys())\n",
        "print(\"Top-level keys:\", val_data.keys())"
      ],
      "metadata": {
        "colab": {
          "base_uri": "https://localhost:8080/"
        },
        "id": "ZfWBOTRabltd",
        "outputId": "91c47b2f-4684-43b0-bbcb-9b8404b0ebe4"
      },
      "execution_count": null,
      "outputs": [
        {
          "output_type": "stream",
          "name": "stdout",
          "text": [
            "Top-level keys: dict_keys(['info', 'licenses', 'images', 'annotations', 'categories'])\n",
            "Top-level keys: dict_keys(['info', 'licenses', 'images', 'annotations', 'categories'])\n"
          ]
        }
      ]
    },
    {
      "cell_type": "markdown",
      "source": [
        "The datasest is currently in COCO format. To use YOLO models, we need to convert into YOLO and made an appropiate directory structure for YOLO."
      ],
      "metadata": {
        "id": "uZ1BeiTBcmka"
      }
    },
    {
      "cell_type": "code",
      "source": [
        "import os\n",
        "import json\n",
        "from tqdm import tqdm\n",
        "from PIL import Image\n",
        "from pycocotools.coco import COCO\n",
        "\n",
        "def convert_coco_to_yolo(coco_json_path, images_dir, output_labels_dir):\n",
        "    os.makedirs(output_labels_dir, exist_ok=True)\n",
        "\n",
        "    coco = COCO(coco_json_path)\n",
        "    img_id_to_filename = {img['id']: img['file_name'] for img in coco.dataset['images']}\n",
        "    img_id_to_size = {img['id']: (img['width'], img['height']) for img in coco.dataset['images']}\n",
        "\n",
        "    for ann in tqdm(coco.dataset['annotations']):\n",
        "        img_id = ann['image_id']\n",
        "        category_id = ann['category_id'] - 1  # YOLO format uses 0-based index\n",
        "        bbox = ann['bbox']  # [x_min, y_min, width, height]\n",
        "\n",
        "        x, y, w, h = bbox\n",
        "        img_width, img_height = img_id_to_size[img_id]\n",
        "\n",
        "        x_center = (x + w / 2) / img_width\n",
        "        y_center = (y + h / 2) / img_height\n",
        "        w /= img_width\n",
        "        h /= img_height\n",
        "\n",
        "        # Build annotation line\n",
        "        annotation_line = f\"{category_id} {x_center:.6f} {y_center:.6f} {w:.6f} {h:.6f}\\n\"\n",
        "\n",
        "        # Write to label file\n",
        "        img_filename = img_id_to_filename[img_id]\n",
        "        label_filename = os.path.splitext(img_filename)[0] + '.txt'\n",
        "        label_path = os.path.join(output_labels_dir, label_filename)\n",
        "\n",
        "        with open(label_path, 'a') as f:\n",
        "            f.write(annotation_line)\n",
        "\n",
        "    print(\"✅ Conversion complete!\")\n",
        "\n",
        "# Example usage\n",
        "convert_coco_to_yolo(\n",
        "    coco_json_path=\"instances_train_trashcan.json\",\n",
        "    images_dir=\"/instance_version/train\",\n",
        "    output_labels_dir=\"/content/yolo_dataset/labels/train\"\n",
        ")\n",
        "\n",
        "convert_coco_to_yolo(\n",
        "    coco_json_path=\"instances_val_trashcan.json\",\n",
        "    images_dir=\"/instance_version/val\",\n",
        "    output_labels_dir=\"/content/yolo_dataset/labels/val\"\n",
        ")\n"
      ],
      "metadata": {
        "colab": {
          "base_uri": "https://localhost:8080/"
        },
        "id": "3zKbEHXBbygp",
        "outputId": "8d7110ca-d14c-4aa5-8031-871d1a51c40e"
      },
      "execution_count": null,
      "outputs": [
        {
          "output_type": "stream",
          "name": "stdout",
          "text": [
            "loading annotations into memory...\n",
            "Done (t=0.40s)\n",
            "creating index...\n",
            "index created!\n"
          ]
        },
        {
          "output_type": "stream",
          "name": "stderr",
          "text": [
            "100%|██████████| 9540/9540 [00:01<00:00, 8977.02it/s]\n"
          ]
        },
        {
          "output_type": "stream",
          "name": "stdout",
          "text": [
            "✅ Conversion complete!\n",
            "loading annotations into memory...\n",
            "Done (t=0.23s)\n",
            "creating index...\n",
            "index created!\n"
          ]
        },
        {
          "output_type": "stream",
          "name": "stderr",
          "text": [
            "100%|██████████| 2588/2588 [00:00<00:00, 9233.11it/s]"
          ]
        },
        {
          "output_type": "stream",
          "name": "stdout",
          "text": [
            "✅ Conversion complete!\n"
          ]
        },
        {
          "output_type": "stream",
          "name": "stderr",
          "text": [
            "\n"
          ]
        }
      ]
    },
    {
      "cell_type": "markdown",
      "source": [
        "Step 3: Checking Number of Images in both training set and validation set to verify."
      ],
      "metadata": {
        "id": "rfutGxpwcw0V"
      }
    },
    {
      "cell_type": "code",
      "source": [
        "train_images = train_data['images']\n",
        "val_images = val_data['images']\n",
        "train_annotations = train_data['annotations']\n",
        "val_annotations = val_data['annotations']\n",
        "categories = train_data['categories']\n",
        "\n",
        "print(f\"Training images: {len(train_images)}\")\n",
        "print(f\"Validation images: {len(val_images)}\")\n",
        "print(f\"Training annotations: {len(train_annotations)}\")\n",
        "print(f\"Validation annotations: {len(val_annotations)}\")\n",
        "print(f\"Number of categories: {len(categories)}\")"
      ],
      "metadata": {
        "colab": {
          "base_uri": "https://localhost:8080/"
        },
        "id": "Gegpg0I8eYOu",
        "outputId": "14282bcd-28e8-4e58-8e6e-6fa6a46aaa24"
      },
      "execution_count": null,
      "outputs": [
        {
          "output_type": "stream",
          "name": "stdout",
          "text": [
            "Training images: 6065\n",
            "Validation images: 1147\n",
            "Training annotations: 9540\n",
            "Validation annotations: 2588\n",
            "Number of categories: 22\n"
          ]
        }
      ]
    },
    {
      "cell_type": "markdown",
      "source": [
        "Copying images to a yolo compatible folder"
      ],
      "metadata": {
        "id": "5iOUF_TMlc_D"
      }
    },
    {
      "cell_type": "code",
      "source": [
        "import shutil\n",
        "import os\n",
        "\n",
        "# Create image dirs\n",
        "os.makedirs(\"/content/yolo_dataset/images/train\", exist_ok=True)\n",
        "os.makedirs(\"/content/yolo_dataset/images/val\", exist_ok=True)\n",
        "\n",
        "# Paths to your original images\n",
        "train_imgs = \"/content/drive/MyDrive/instance_version/train\"\n",
        "val_imgs = \"/content/drive/MyDrive/instance_version/val\"\n",
        "\n",
        "# Copy images\n",
        "for fname in os.listdir(train_imgs):\n",
        "    if fname.endswith(\".jpg\"):\n",
        "        shutil.copy(os.path.join(train_imgs, fname), \"/content/yolo_dataset/images/train\")\n",
        "\n",
        "for fname in os.listdir(val_imgs):\n",
        "    if fname.endswith(\".jpg\"):\n",
        "        shutil.copy(os.path.join(val_imgs, fname), \"/content/yolo_dataset/images/val\")"
      ],
      "metadata": {
        "id": "pqKyhInxcR18"
      },
      "execution_count": null,
      "outputs": []
    },
    {
      "cell_type": "markdown",
      "source": [
        "This graph displays a bar chart illustrating the class distribution within a training dataset. It visually represents the annotation count for various categories, indicating how frequently each class appears in the dataset."
      ],
      "metadata": {
        "id": "eg3Tt0TRetw2"
      }
    },
    {
      "cell_type": "markdown",
      "source": [
        "Checking Number of images in new folder to make sure all images are successfully copied or not"
      ],
      "metadata": {
        "id": "c4rM8_zdksWQ"
      }
    },
    {
      "cell_type": "code",
      "source": [
        "import os\n",
        "\n",
        "# Path to your training images\n",
        "train_image_dir = '/content/yolo_dataset/images/train'\n",
        "val_image_dir = '/content/yolo_dataset/images/val'\n",
        "\n",
        "# Count the number of images (assuming .jpg, .png, etc.)\n",
        "image_file1 = [f for f in os.listdir(train_image_dir) if f.endswith(('.jpg', '.jpeg', '.png', '.bmp'))]\n",
        "num_images1 = len(image_file1)\n",
        "\n",
        "image_file2 = [f for f in os.listdir(val_image_dir) if f.endswith(('.jpg', '.jpeg', '.png', '.bmp'))]\n",
        "num_images2 = len(image_file2)\n",
        "\n",
        "print(f\"Number of images in the training set new folder: {num_images1}\")\n",
        "print(f\"Number of images in the validation set new folder: {num_images2}\")"
      ],
      "metadata": {
        "colab": {
          "base_uri": "https://localhost:8080/"
        },
        "id": "vK6Am8XVkyhc",
        "outputId": "fedd7297-192b-49a2-8604-bebf830f5b77"
      },
      "execution_count": null,
      "outputs": [
        {
          "output_type": "stream",
          "name": "stdout",
          "text": [
            "Number of images in the training set new folder: 6065\n",
            "Number of images in the validation set new folder: 1147\n"
          ]
        }
      ]
    },
    {
      "cell_type": "markdown",
      "source": [
        "Data Cleaning. Checking Corrupted Files.\n",
        "After applying normalization on bounding boxes. Some bounding boxes values still exceed greater than 1 so we will apply renormalization."
      ],
      "metadata": {
        "id": "74Dxt_x1hQtq"
      }
    },
    {
      "cell_type": "code",
      "source": [
        "import os\n",
        "from glob import glob\n",
        "\n",
        "def check_labels(label_dir):\n",
        "    bad_files = []\n",
        "    for label_file in glob(f\"{label_dir}/**/*.txt\", recursive=True):\n",
        "        with open(label_file, 'r') as f:\n",
        "            lines = f.readlines()\n",
        "            for line in lines:\n",
        "                parts = line.strip().split()\n",
        "                if len(parts) != 5:\n",
        "                    bad_files.append(label_file)\n",
        "                    break\n",
        "                coords = list(map(float, parts[1:]))\n",
        "                if any(c < 0 or c > 1 for c in coords):\n",
        "                    bad_files.append(label_file)\n",
        "                    break\n",
        "    return list(set(bad_files))\n",
        "\n",
        "bad_labels = check_labels(\"/content/yolo_dataset/labels/val\")\n",
        "print(f\"Found {len(bad_labels)} corrupted label files:\")"
      ],
      "metadata": {
        "colab": {
          "base_uri": "https://localhost:8080/"
        },
        "id": "pEc0KMrYhMpK",
        "outputId": "3def9646-55d5-47d3-ea3c-5c16d96d3160"
      },
      "execution_count": null,
      "outputs": [
        {
          "output_type": "stream",
          "name": "stdout",
          "text": [
            "Found 52 corrupted label files:\n"
          ]
        }
      ]
    },
    {
      "cell_type": "code",
      "source": [
        "from PIL import Image\n",
        "\n",
        "def renormalize_label_file(label_path, images_dir):\n",
        "    img_name = os.path.basename(label_path).replace(\".txt\", \".jpg\")\n",
        "    img_path = os.path.join(images_dir, img_name)\n",
        "\n",
        "    if not os.path.exists(img_path):\n",
        "        print(f\"⚠️ Image not found for: {label_path}\")\n",
        "        return\n",
        "\n",
        "    with Image.open(img_path) as img:\n",
        "        img_width, img_height = img.size\n",
        "\n",
        "    fixed_lines = []\n",
        "    with open(label_path, 'r') as f:\n",
        "        for line in f:\n",
        "            parts = line.strip().split()\n",
        "            if len(parts) != 5:\n",
        "                continue\n",
        "\n",
        "            cls, x, y, w, h = parts\n",
        "            try:\n",
        "                x, y, w, h = map(float, [x, y, w, h])\n",
        "            except:\n",
        "                continue\n",
        "\n",
        "            # Denormalize and re-normalize (with clamping)\n",
        "            x_pixel = x * img_width\n",
        "            y_pixel = y * img_height\n",
        "            w_pixel = w * img_width\n",
        "            h_pixel = h * img_height\n",
        "\n",
        "            x_new = min(max(x_pixel / img_width, 0), 1)\n",
        "            y_new = min(max(y_pixel / img_height, 0), 1)\n",
        "            w_new = min(max(w_pixel / img_width, 0), 1)\n",
        "            h_new = min(max(h_pixel / img_height, 0), 1)\n",
        "\n",
        "            fixed_lines.append(f\"{cls} {x_new:.6f} {y_new:.6f} {w_new:.6f} {h_new:.6f}\\n\")\n",
        "\n",
        "    # Save fixed label file\n",
        "    with open(label_path, 'w') as f:\n",
        "        f.writelines(fixed_lines)\n",
        "\n",
        "\n",
        "for label_path in bad_labels:\n",
        "    renormalize_label_file(label_path, \"/content/yolo_dataset/images/val\")"
      ],
      "metadata": {
        "id": "aYnUZRCJkG85"
      },
      "execution_count": null,
      "outputs": []
    },
    {
      "cell_type": "markdown",
      "source": [
        "Verifiying images in Validation Set"
      ],
      "metadata": {
        "id": "kI4wtbclkcWx"
      }
    },
    {
      "cell_type": "code",
      "source": [
        "import os\n",
        "from glob import glob\n",
        "\n",
        "def check_labels(label_dir):\n",
        "    bad_files = []\n",
        "    for label_file in glob(f\"{label_dir}/**/*.txt\", recursive=True):\n",
        "        with open(label_file, 'r') as f:\n",
        "            lines = f.readlines()\n",
        "            for line in lines:\n",
        "                parts = line.strip().split()\n",
        "                if len(parts) != 5:\n",
        "                    bad_files.append(label_file)\n",
        "                    break\n",
        "                coords = list(map(float, parts[1:]))\n",
        "                if any(c < 0 or c > 1 for c in coords):\n",
        "                    bad_files.append(label_file)\n",
        "                    break\n",
        "    return list(set(bad_files))\n",
        "\n",
        "bad_labels = check_labels(\"/content/yolo_dataset/labels/val\")\n",
        "print(f\"Found {len(bad_labels)} corrupted label files:\")"
      ],
      "metadata": {
        "colab": {
          "base_uri": "https://localhost:8080/"
        },
        "id": "ijrGa-uskejO",
        "outputId": "dcd7141c-4441-4252-8aa3-d91fc1a01d47"
      },
      "execution_count": null,
      "outputs": [
        {
          "output_type": "stream",
          "name": "stdout",
          "text": [
            "Found 0 corrupted label files:\n"
          ]
        }
      ]
    },
    {
      "cell_type": "code",
      "source": [
        "import os\n",
        "from glob import glob\n",
        "\n",
        "def check_labels(label_dir):\n",
        "    bad_files = []\n",
        "    for label_file in glob(f\"{label_dir}/**/*.txt\", recursive=True):\n",
        "        with open(label_file, 'r') as f:\n",
        "            lines = f.readlines()\n",
        "            for line in lines:\n",
        "                parts = line.strip().split()\n",
        "                if len(parts) != 5:\n",
        "                    bad_files.append(label_file)\n",
        "                    break\n",
        "                coords = list(map(float, parts[1:]))\n",
        "                if any(c < 0 or c > 1 for c in coords):\n",
        "                    bad_files.append(label_file)\n",
        "                    break\n",
        "    return list(set(bad_files))\n",
        "\n",
        "bad_labels = check_labels(\"/content/yolo_dataset/labels/train\")\n",
        "print(f\"Found {len(bad_labels)} corrupted label files:\")"
      ],
      "metadata": {
        "colab": {
          "base_uri": "https://localhost:8080/"
        },
        "id": "MWZ6gMZRjn9H",
        "outputId": "0279f4d8-5142-470d-f0d2-f87912312021"
      },
      "execution_count": null,
      "outputs": [
        {
          "output_type": "stream",
          "name": "stdout",
          "text": [
            "Found 325 corrupted label files:\n"
          ]
        }
      ]
    },
    {
      "cell_type": "code",
      "source": [
        "from PIL import Image\n",
        "\n",
        "def renormalize_label_file(label_path, images_dir):\n",
        "    img_name = os.path.basename(label_path).replace(\".txt\", \".jpg\")\n",
        "    img_path = os.path.join(images_dir, img_name)\n",
        "\n",
        "    if not os.path.exists(img_path):\n",
        "        print(f\"⚠️ Image not found for: {label_path}\")\n",
        "        return\n",
        "\n",
        "    with Image.open(img_path) as img:\n",
        "        img_width, img_height = img.size\n",
        "\n",
        "    fixed_lines = []\n",
        "    with open(label_path, 'r') as f:\n",
        "        for line in f:\n",
        "            parts = line.strip().split()\n",
        "            if len(parts) != 5:\n",
        "                continue\n",
        "\n",
        "            cls, x, y, w, h = parts\n",
        "            try:\n",
        "                x, y, w, h = map(float, [x, y, w, h])\n",
        "            except:\n",
        "                continue\n",
        "\n",
        "            # Denormalize and re-normalize (with clamping)\n",
        "            x_pixel = x * img_width\n",
        "            y_pixel = y * img_height\n",
        "            w_pixel = w * img_width\n",
        "            h_pixel = h * img_height\n",
        "\n",
        "            x_new = min(max(x_pixel / img_width, 0), 1)\n",
        "            y_new = min(max(y_pixel / img_height, 0), 1)\n",
        "            w_new = min(max(w_pixel / img_width, 0), 1)\n",
        "            h_new = min(max(h_pixel / img_height, 0), 1)\n",
        "\n",
        "            fixed_lines.append(f\"{cls} {x_new:.6f} {y_new:.6f} {w_new:.6f} {h_new:.6f}\\n\")\n",
        "\n",
        "    # Save fixed label file\n",
        "    with open(label_path, 'w') as f:\n",
        "        f.writelines(fixed_lines)\n",
        "\n",
        "\n",
        "for label_path in bad_labels:\n",
        "    renormalize_label_file(label_path, \"/content/yolo_dataset/images/train\")"
      ],
      "metadata": {
        "id": "nEvAg_EPkXhG"
      },
      "execution_count": null,
      "outputs": []
    },
    {
      "cell_type": "markdown",
      "source": [
        "Verifying images in Training Set"
      ],
      "metadata": {
        "id": "2RfGHepzkgSw"
      }
    },
    {
      "cell_type": "code",
      "source": [
        "import os\n",
        "from glob import glob\n",
        "\n",
        "def check_labels(label_dir):\n",
        "    bad_files = []\n",
        "    for label_file in glob(f\"{label_dir}/**/*.txt\", recursive=True):\n",
        "        with open(label_file, 'r') as f:\n",
        "            lines = f.readlines()\n",
        "            for line in lines:\n",
        "                parts = line.strip().split()\n",
        "                if len(parts) != 5:\n",
        "                    bad_files.append(label_file)\n",
        "                    break\n",
        "                coords = list(map(float, parts[1:]))\n",
        "                if any(c < 0 or c > 1 for c in coords):\n",
        "                    bad_files.append(label_file)\n",
        "                    break\n",
        "    return list(set(bad_files))\n",
        "\n",
        "bad_labels = check_labels(\"/content/yolo_dataset/labels/train\")\n",
        "print(f\"Found {len(bad_labels)} corrupted label files:\")"
      ],
      "metadata": {
        "colab": {
          "base_uri": "https://localhost:8080/"
        },
        "id": "tVuAU51JkkAz",
        "outputId": "68946a99-a1c0-4701-ccd4-c7343d73363e"
      },
      "execution_count": null,
      "outputs": [
        {
          "output_type": "stream",
          "name": "stdout",
          "text": [
            "Found 0 corrupted label files:\n"
          ]
        }
      ]
    },
    {
      "cell_type": "code",
      "source": [
        "import os\n",
        "\n",
        "label_dir = '/content/yolo_dataset/labels/train'\n",
        "\n",
        "for filename in os.listdir(label_dir):\n",
        "    if filename.endswith('.txt'):\n",
        "        with open(os.path.join(label_dir, filename), 'r') as f:\n",
        "            lines = f.readlines()\n",
        "            for line in lines:\n",
        "                parts = line.strip().split()\n",
        "                bbox = [float(x) for x in parts[1:]]  # Skip class_id\n",
        "                if not all(0 <= val <= 1 for val in bbox):\n",
        "                    print(f\"⚠️ Out-of-bounds bbox in {filename}: {bbox}\")\n",
        "print(\"✅ Done checking all labels.\")\n"
      ],
      "metadata": {
        "colab": {
          "base_uri": "https://localhost:8080/"
        },
        "id": "CsHd0PgOv8Hg",
        "outputId": "75b19b73-9bfb-4a99-c26a-bccdeea685e8"
      },
      "execution_count": null,
      "outputs": [
        {
          "output_type": "stream",
          "name": "stdout",
          "text": [
            "✅ Done checking all labels.\n"
          ]
        }
      ]
    },
    {
      "cell_type": "markdown",
      "source": [
        "The below bar chart displays the class distribution within a training dataset. It visually represents the annotation count for various categories, indicating how frequently each class appears in the dataset."
      ],
      "metadata": {
        "id": "D4UyYMR5mnXH"
      }
    },
    {
      "cell_type": "code",
      "source": [
        "import os\n",
        "from collections import Counter\n",
        "import matplotlib.pyplot as plt\n",
        "import numpy as np\n",
        "\n",
        "train_labels_dir = \"/content/yolo_dataset/labels/train\"\n",
        "val_labels_dir = \"/content/yolo_dataset/labels/val\"\n",
        "\n",
        "\n",
        "class_names = [\n",
        "    'rov', 'plant', 'animal_fish', 'animal_starfish', 'animal_shells', 'animal_crab',\n",
        "    'animal_eel', 'animal_etc', 'trash_clothing', 'trash_pipe', 'trash_bottle',\n",
        "    'trash_bag', 'trash_snack_wrapper', 'trash_can', 'trash_cup', 'trash_container',\n",
        "    'trash_unknown_instance', 'trash_branch', 'trash_wreckage', 'trash_tarp',\n",
        "    'trash_rope', 'trash_net'\n",
        "]\n",
        "\n",
        "# 📊 Count YOLO labels per class\n",
        "def count_classes(label_dir):\n",
        "    class_counts = Counter()\n",
        "    for file in os.listdir(label_dir):\n",
        "        if file.endswith(\".txt\"):\n",
        "            with open(os.path.join(label_dir, file), 'r') as f:\n",
        "                for line in f:\n",
        "                    if line.strip():\n",
        "                        class_id = int(line.split()[0])\n",
        "                        class_counts[class_id] += 1\n",
        "    return class_counts\n",
        "\n",
        "\n",
        "train_counts = count_classes(train_labels_dir)\n",
        "val_counts = count_classes(val_labels_dir)\n",
        "\n",
        "\n",
        "train_freq = [train_counts.get(i, 0) for i in range(len(class_names))]\n",
        "val_freq = [val_counts.get(i, 0) for i in range(len(class_names))]\n",
        "\n",
        "# 📈 Plot side-by-side bar chart\n",
        "x = np.arange(len(class_names))\n",
        "width = 0.4\n",
        "\n",
        "plt.figure(figsize=(18, 6))\n",
        "plt.bar(x - width/2, train_freq, width, label='Train', color='skyblue')\n",
        "plt.bar(x + width/2, val_freq, width, label='Val', color='orange')\n",
        "plt.xticks(x, class_names, rotation=90)\n",
        "plt.xlabel(\"Class\")\n",
        "plt.ylabel(\"Number of Objects\")\n",
        "plt.title(\"Class Distribution in YOLO Dataset (Train vs Val)\")\n",
        "plt.legend()\n",
        "plt.grid(axis='y', linestyle='--', alpha=0.5)\n",
        "plt.tight_layout()\n",
        "plt.show()\n"
      ],
      "metadata": {
        "colab": {
          "base_uri": "https://localhost:8080/",
          "height": 381
        },
        "id": "T4xhZcYqmnAo",
        "outputId": "33f16672-fbee-44b3-b3f5-1233c11c9256"
      },
      "execution_count": null,
      "outputs": [
        {
          "output_type": "display_data",
          "data": {
            "text/plain": [
              "<Figure size 1800x600 with 1 Axes>"
            ],
            "image/png": "[encoded data removed]"
          },
          "metadata": {}
        }
      ]
    },
    {
      "cell_type": "code",
      "source": [
        "import os\n",
        "from glob import glob\n",
        "from collections import defaultdict\n",
        "import matplotlib.pyplot as plt\n",
        "import seaborn as sns\n",
        "import numpy as np\n",
        "\n",
        "#Before Augmentation\n",
        "LABEL_DIR = '/content/yolo_dataset/labels/train'\n",
        "\n",
        "# Use the same class list as your training script for consistency.\n",
        "CLASS_LIST = [\n",
        "    'rov', 'plant', 'animal_fish', 'animal_starfish', 'animal_shells',\n",
        "    'animal_crab', 'animal_eel', 'animal_etc',\n",
        "    'trash_clothing', 'trash_pipe', 'trash_bottle', 'trash_bag',\n",
        "    'trash_snack_wrapper', 'trash_can', 'trash_cup', 'trash_container',\n",
        "    'trash_unknown_instance', 'trash_branch', 'trash_wreckage',\n",
        "    'trash_tarp', 'trash_rope', 'trash_net'\n",
        "]\n",
        "\n",
        "# --- Helper Function ---\n",
        "def read_yolo_labels(label_path):\n",
        "    \"\"\"Reads class IDs from a single YOLO label file.\"\"\"\n",
        "    class_ids = []\n",
        "    try:\n",
        "        with open(label_path, 'r') as f:\n",
        "            lines = f.read().splitlines()\n",
        "        for line in lines:\n",
        "            parts = line.strip().split()\n",
        "            if len(parts) > 0:\n",
        "                # --- FIX: Convert to float first, then to int ---\n",
        "                # This handles class IDs that might be written as '21.0' instead of '21'.\n",
        "                class_ids.append(int(float(parts[0])))\n",
        "    except Exception as e:\n",
        "        print(f\"Could not read or process {label_path}: {e}\")\n",
        "    return class_ids\n",
        "\n",
        "# --- Main Script ---\n",
        "def plot_class_distribution():\n",
        "    \"\"\"\n",
        "    Counts all class instances in the label directory and plots a bar graph.\n",
        "    \"\"\"\n",
        "    print(f\"Scanning for label files in: {LABEL_DIR}\")\n",
        "    label_files = glob(os.path.join(LABEL_DIR, '*.txt'))\n",
        "\n",
        "    if not label_files:\n",
        "        print(\"Error: No label files found in the specified directory.\")\n",
        "        return\n",
        "\n",
        "    print(f\"Found {len(label_files)} label files. Counting class instances...\")\n",
        "\n",
        "    # Count all instances of each class ID\n",
        "    class_counts = defaultdict(int)\n",
        "    for label_path in label_files:\n",
        "        class_ids = read_yolo_labels(label_path)\n",
        "        for cls_id in class_ids:\n",
        "            if cls_id < len(CLASS_LIST):\n",
        "                class_counts[cls_id] += 1\n",
        "            else:\n",
        "                print(f\"Warning: Found an invalid class ID '{cls_id}' in {os.path.basename(label_path)}\")\n",
        "\n",
        "    if not class_counts:\n",
        "        print(\"Error: Could not find any class instances in the label files.\")\n",
        "        return\n",
        "\n",
        "    # Prepare data for plotting\n",
        "    # Sort by class ID to maintain a consistent order\n",
        "    sorted_class_ids = sorted(class_counts.keys())\n",
        "\n",
        "    class_names = [CLASS_LIST[i] for i in sorted_class_ids]\n",
        "    counts = [class_counts[i] for i in sorted_class_ids]\n",
        "\n",
        "    print(\"\\nFinal Class Counts:\")\n",
        "    for name, count in zip(class_names, counts):\n",
        "        print(f\"- {name}: {count}\")\n",
        "\n",
        "    # --- Plotting ---\n",
        "    print(\"\\nGenerating plot...\")\n",
        "    plt.style.use('seaborn-v0_8-whitegrid')\n",
        "    plt.figure(figsize=(12, 10)) # Adjusted size for better readability\n",
        "\n",
        "    # Create a horizontal bar plot\n",
        "    ax = sns.barplot(x=counts, y=class_names, palette='viridis', orient='h')\n",
        "\n",
        "    # Add count labels to the end of each bar\n",
        "    for i, count in enumerate(counts):\n",
        "        ax.text(count + 5, i, str(count), color='black', va='center')\n",
        "\n",
        "    # Set titles and labels for clarity\n",
        "    plt.title('Final Class Distribution After Augmentation', fontsize=16)\n",
        "    plt.xlabel('Number of Instances', fontsize=12)\n",
        "    plt.ylabel('Class Name', fontsize=12)\n",
        "\n",
        "    # Adjust layout to prevent labels from being cut off\n",
        "    plt.tight_layout()\n",
        "\n",
        "    # Display the plot\n",
        "    plt.show()\n",
        "\n",
        "\n",
        "# Run the plotting function\n",
        "if __name__ == '__main__':\n",
        "    plot_class_distribution()\n"
      ],
      "metadata": {
        "colab": {
          "base_uri": "https://localhost:8080/",
          "height": 1000
        },
        "id": "dE6jbAUK5b4k",
        "outputId": "340908fa-c8d5-4469-ca83-108bb6d92f39"
      },
      "execution_count": null,
      "outputs": [
        {
          "output_type": "stream",
          "name": "stdout",
          "text": [
            "Scanning for label files in: /content/yolo_dataset/labels/train\n",
            "Found 5936 label files. Counting class instances...\n",
            "\n",
            "Final Class Counts:\n",
            "- rov: 2633\n",
            "- plant: 405\n",
            "- animal_fish: 611\n",
            "- animal_starfish: 262\n",
            "- animal_shells: 188\n",
            "- animal_crab: 246\n",
            "- animal_eel: 259\n",
            "- animal_etc: 170\n",
            "- trash_clothing: 65\n",
            "- trash_pipe: 114\n",
            "- trash_bottle: 100\n",
            "- trash_bag: 727\n",
            "- trash_snack_wrapper: 67\n",
            "- trash_can: 366\n",
            "- trash_cup: 47\n",
            "- trash_container: 407\n",
            "- trash_unknown_instance: 2203\n",
            "- trash_branch: 268\n",
            "- trash_wreckage: 130\n",
            "- trash_tarp: 90\n",
            "- trash_rope: 88\n",
            "- trash_net: 94\n",
            "\n",
            "Generating plot...\n"
          ]
        },
        {
          "output_type": "stream",
          "name": "stderr",
          "text": [
            "/tmp/ipython-input-16-2077410194.py:83: FutureWarning: \n",
            "\n",
            "Passing `palette` without assigning `hue` is deprecated and will be removed in v0.14.0. Assign the `y` variable to `hue` and set `legend=False` for the same effect.\n",
            "\n",
            "  ax = sns.barplot(x=counts, y=class_names, palette='viridis', orient='h')\n"
          ]
        },
        {
          "output_type": "display_data",
          "data": {
            "text/plain": [
              "<Figure size 1200x1000 with 1 Axes>"
            ],
            "image/png": "[encoded data removed]"
          },
          "metadata": {}
        }
      ]
    },
    {
      "cell_type": "code",
      "source": [
        "import os\n",
        "import cv2\n",
        "import random\n",
        "from glob import glob\n",
        "from collections import defaultdict\n",
        "import albumentations as A\n",
        "import numpy as np\n",
        "\n",
        "# --- Configuration ---\n",
        "# Ensure these paths are correct for your environment\n",
        "IMAGE_DIR = '/content/yolo_dataset/images/train'\n",
        "LABEL_DIR = '/content/yolo_dataset/labels/train'\n",
        "TARGET_PER_CLASS = 750\n",
        "AUG_PER_IMAGE = 5\n",
        "\n",
        "# Classes to target for augmentation\n",
        "UNDERREP_CLASSES = [\n",
        "    'trash_cup', 'trash_clothing', 'trash_snack_wrapper',\n",
        "    'trash_tarp', 'trash_rope', 'trash_net',\n",
        "    'trash_pipe', 'trash_bottle'\n",
        "]\n",
        "\n",
        "# Full list of classes in the dataset\n",
        "CLASS_LIST = [\n",
        "    'rov', 'plant', 'animal_fish', 'animal_starfish', 'animal_shells',\n",
        "    'animal_crab', 'animal_eel', 'animal_etc',\n",
        "    'trash_clothing', 'trash_pipe', 'trash_bottle', 'trash_bag',\n",
        "    'trash_snack_wrapper', 'trash_can', 'trash_cup', 'trash_container',\n",
        "    'trash_unknown_instance', 'trash_branch', 'trash_wreckage',\n",
        "    'trash_tarp', 'trash_rope', 'trash_net'\n",
        "]\n",
        "CLASS_NAME_TO_ID = {name: idx for idx, name in enumerate(CLASS_LIST)}\n",
        "\n",
        "# --- Helper Functions ---\n",
        "def read_yolo_labels(label_path):\n",
        "    \"\"\"Reads YOLO format labels from a file.\"\"\"\n",
        "    objects = []\n",
        "    try:\n",
        "        with open(label_path, 'r') as f:\n",
        "            lines = f.read().splitlines()\n",
        "        for line in lines:\n",
        "            parts = line.strip().split()\n",
        "            if len(parts) != 5:\n",
        "                continue\n",
        "            cls_id = int(parts[0])\n",
        "            bbox = list(map(float, parts[1:]))\n",
        "            objects.append((cls_id, bbox))\n",
        "    except FileNotFoundError:\n",
        "        print(f\"Warning: Label file not found: {label_path}\")\n",
        "    return objects\n",
        "\n",
        "def write_yolo_labels(label_path, objects):\n",
        "    \"\"\"Writes a list of objects to a YOLO format label file.\"\"\"\n",
        "    with open(label_path, 'w') as f:\n",
        "        for cls_id, bbox in objects:\n",
        "            # Ensure coordinates are rounded for clean output\n",
        "            bbox_str = ' '.join(map(lambda x: f'{x:.6f}', bbox))\n",
        "            f.write(f\"{cls_id} {bbox_str}\\n\")\n",
        "\n",
        "# --- Initial Class Count ---\n",
        "print(\"Counting initial class frequencies...\")\n",
        "class_counts = defaultdict(int)\n",
        "label_files = glob(os.path.join(LABEL_DIR, '*.txt'))\n",
        "\n",
        "for label_path in label_files:\n",
        "    for cls_id, _ in read_yolo_labels(label_path):\n",
        "        class_counts[cls_id] += 1\n",
        "\n",
        "print(\"Initial counts:\", dict(sorted(class_counts.items())))\n",
        "\n",
        "\n",
        "# --- Albumentations Pipeline ---\n",
        "# This pipeline defines the augmentations that will be applied.\n",
        "transform = A.Compose([\n",
        "    A.HorizontalFlip(p=0.5),\n",
        "    A.RandomBrightnessContrast(p=0.5),\n",
        "    # Affine can cause bboxes to go out of bounds, which raises errors.\n",
        "    # The script will handle this with a try-except block.\n",
        "    A.Affine(scale=(0.9, 1.1), translate_percent=(0.1, 0.1), rotate=(-10, 10), p=0.7),\n",
        "    A.MotionBlur(p=0.2),\n",
        "], bbox_params=A.BboxParams(format='yolo',\n",
        "                            label_fields=['class_labels'],\n",
        "                            # Remove boxes that are mostly outside the image after transform\n",
        "                            min_visibility=0.25,\n",
        "                            ))\n",
        "\n",
        "\n",
        "# --- Augmentation Process ---\n",
        "print(\"\\nStarting augmentation process...\")\n",
        "aug_idx = 0\n",
        "# Iterate over a copy of the file list, as we will be adding new files to the directory\n",
        "for label_path in list(label_files):\n",
        "    # Construct the corresponding image path, checking for both .jpg and .png\n",
        "    base_filename = os.path.basename(label_path).replace('.txt', '')\n",
        "    image_path_jpg = os.path.join(IMAGE_DIR, base_filename + '.jpg')\n",
        "    image_path_png = os.path.join(IMAGE_DIR, base_filename + '.png')\n",
        "\n",
        "    if os.path.exists(image_path_jpg):\n",
        "        image_path = image_path_jpg\n",
        "    elif os.path.exists(image_path_png):\n",
        "        image_path = image_path_png\n",
        "    else:\n",
        "        print(f\"Warning: No corresponding image found for label {label_path}\")\n",
        "        continue\n",
        "\n",
        "    # Read the original image and its labels\n",
        "    image = cv2.imread(image_path)\n",
        "    if image is None:\n",
        "        print(f\"Warning: Could not read image {image_path}\")\n",
        "        continue\n",
        "\n",
        "    # Albumentations requires BGR images to be converted to RGB\n",
        "    image = cv2.cvtColor(image, cv2.COLOR_BGR2RGB)\n",
        "\n",
        "    objects = read_yolo_labels(label_path)\n",
        "    if not objects:\n",
        "        continue\n",
        "\n",
        "\n",
        "    # An image should be augmented if it contains ANY underrepresented class\n",
        "    # that is still below the target count.\n",
        "    image_needs_augmenting = False\n",
        "    for cls_id, _ in objects:\n",
        "        class_name = CLASS_LIST[cls_id]\n",
        "        if class_name in UNDERREP_CLASSES and class_counts[cls_id] < TARGET_PER_CLASS:\n",
        "            image_needs_augmenting = True\n",
        "            break # Found a class that needs augmenting, no need to check more\n",
        "\n",
        "    if not image_needs_augmenting:\n",
        "        continue\n",
        "\n",
        "    #Prepare ALL bboxes from the image for transformation ---\n",
        "    original_bboxes = [bbox for _, bbox in objects]\n",
        "    original_class_labels = [cls_id for cls_id, _ in objects]\n",
        "\n",
        "    # Generate N augmentations for this image\n",
        "    for _ in range(AUG_PER_IMAGE):\n",
        "        try:\n",
        "            # --- ERROR FIX: Pass ALL bboxes and labels to the transform ---\n",
        "            augmented = transform(image=image, bboxes=original_bboxes, class_labels=original_class_labels)\n",
        "\n",
        "            aug_image = augmented['image']\n",
        "            aug_bboxes = augmented['bboxes']\n",
        "            aug_classes = augmented['class_labels']\n",
        "\n",
        "            # If augmentation removed all bboxes, skip saving this one\n",
        "            if not aug_bboxes:\n",
        "                continue\n",
        "\n",
        "            # --- ERROR FIX: Process and clean the output from the transform ---\n",
        "            new_objects = []\n",
        "            for cls_id, bbox in zip(aug_classes, aug_bboxes):\n",
        "                # Albumentations can return bboxes slightly outside [0,1].\n",
        "                # We must clip them to be valid.\n",
        "                x_c, y_c, w, h = bbox\n",
        "\n",
        "                # Clip coordinates to the valid [0.0, 1.0] range\n",
        "                x_c = np.clip(x_c, 0.0, 1.0)\n",
        "                y_c = np.clip(y_c, 0.0, 1.0)\n",
        "                w = np.clip(w, 0.0, 1.0)\n",
        "                h = np.clip(h, 0.0, 1.0)\n",
        "\n",
        "                # Ensure the box is valid after clipping (has area and is within bounds)\n",
        "                if w > 0 and h > 0 and (x_c + w/2 <= 1.0) and (x_c - w/2 >= 0.0) and (y_c + h/2 <= 1.0) and (y_c - h/2 >= 0.0):\n",
        "                    new_objects.append((cls_id, [x_c, y_c, w, h]))\n",
        "\n",
        "            if not new_objects:\n",
        "                continue\n",
        "\n",
        "            # Save the new augmented image and its label file\n",
        "            name, ext = os.path.splitext(os.path.basename(image_path))\n",
        "            aug_filename = f\"{name}_aug{aug_idx}{ext}\"\n",
        "            aug_labelname = f\"{name}_aug{aug_idx}.txt\"\n",
        "\n",
        "            # Convert image back to BGR for saving with OpenCV\n",
        "            aug_image_bgr = cv2.cvtColor(aug_image, cv2.COLOR_RGB2BGR)\n",
        "            cv2.imwrite(os.path.join(IMAGE_DIR, aug_filename), aug_image_bgr)\n",
        "            write_yolo_labels(os.path.join(LABEL_DIR, aug_labelname), new_objects)\n",
        "\n",
        "            # Update the counts for all classes in the newly created file\n",
        "            for cls_id, _ in new_objects:\n",
        "                class_counts[cls_id] += 1\n",
        "            aug_idx += 1\n",
        "\n",
        "        except ValueError as e:\n",
        "            # --- ERROR FIX: Catch the error to prevent the script from crashing ---\n",
        "            # This can happen if a transform results in an unrecoverable state.\n",
        "\n",
        "            continue\n",
        "\n",
        "print(f\"\\n Augmentation complete. {aug_idx} new files added.\")\n",
        "print(\"Final counts:\", dict(sorted(class_counts.items())))\n"
      ],
      "metadata": {
        "colab": {
          "base_uri": "https://localhost:8080/"
        },
        "id": "THC41FGiwc99",
        "outputId": "68b44b7a-d7ef-449a-e734-a293ca9cd5a8"
      },
      "execution_count": null,
      "outputs": [
        {
          "output_type": "stream",
          "name": "stdout",
          "text": [
            "Counting initial class frequencies...\n",
            "Initial counts: {0: 2633, 1: 405, 2: 611, 3: 262, 4: 188, 5: 246, 6: 259, 7: 170, 8: 65, 9: 114, 10: 100, 11: 727, 12: 67, 13: 366, 14: 47, 15: 407, 16: 2203, 17: 268, 18: 130, 19: 90, 20: 88, 21: 94}\n",
            "\n",
            "Starting augmentation process...\n",
            "\n",
            "✅ Augmentation complete. 1822 new files added.\n",
            "Final counts: {0: 2774, 1: 410, 2: 611, 3: 262, 4: 280, 5: 298, 6: 259, 7: 170, 8: 245, 9: 532, 10: 444, 11: 806, 12: 240, 13: 366, 14: 223, 15: 477, 16: 2373, 17: 278, 18: 130, 19: 337, 20: 352, 21: 159}\n"
          ]
        }
      ]
    },
    {
      "cell_type": "code",
      "source": [
        "import os\n",
        "from glob import glob\n",
        "from collections import defaultdict\n",
        "import matplotlib.pyplot as plt\n",
        "import seaborn as sns\n",
        "import numpy as np\n",
        "\n",
        "# --- Configuration ---\n",
        "# IMPORTANT: Use the same directory where your final labels (original + augmented) are.\n",
        "LABEL_DIR = '/content/yolo_dataset/labels/train'\n",
        "\n",
        "# Use the same class list as your training script for consistency.\n",
        "CLASS_LIST = [\n",
        "    'rov', 'plant', 'animal_fish', 'animal_starfish', 'animal_shells',\n",
        "    'animal_crab', 'animal_eel', 'animal_etc',\n",
        "    'trash_clothing', 'trash_pipe', 'trash_bottle', 'trash_bag',\n",
        "    'trash_snack_wrapper', 'trash_can', 'trash_cup', 'trash_container',\n",
        "    'trash_unknown_instance', 'trash_branch', 'trash_wreckage',\n",
        "    'trash_tarp', 'trash_rope', 'trash_net'\n",
        "]\n",
        "\n",
        "# --- Helper Function ---\n",
        "def read_yolo_labels(label_path):\n",
        "    \"\"\"Reads class IDs from a single YOLO label file.\"\"\"\n",
        "    class_ids = []\n",
        "    try:\n",
        "        with open(label_path, 'r') as f:\n",
        "            lines = f.read().splitlines()\n",
        "        for line in lines:\n",
        "            parts = line.strip().split()\n",
        "            if len(parts) > 0:\n",
        "                # --- FIX: Convert to float first, then to int ---\n",
        "                # This handles class IDs that might be written as '21.0' instead of '21'.\n",
        "                class_ids.append(int(float(parts[0])))\n",
        "    except Exception as e:\n",
        "        print(f\"Could not read or process {label_path}: {e}\")\n",
        "    return class_ids\n",
        "\n",
        "# --- Main Script ---\n",
        "def plot_class_distribution():\n",
        "    \"\"\"\n",
        "    Counts all class instances in the label directory and plots a bar graph.\n",
        "    \"\"\"\n",
        "    print(f\"Scanning for label files in: {LABEL_DIR}\")\n",
        "    label_files = glob(os.path.join(LABEL_DIR, '*.txt'))\n",
        "\n",
        "    if not label_files:\n",
        "        print(\"Error: No label files found in the specified directory.\")\n",
        "        return\n",
        "\n",
        "    print(f\"Found {len(label_files)} label files. Counting class instances...\")\n",
        "\n",
        "    # Count all instances of each class ID\n",
        "    class_counts = defaultdict(int)\n",
        "    for label_path in label_files:\n",
        "        class_ids = read_yolo_labels(label_path)\n",
        "        for cls_id in class_ids:\n",
        "            if cls_id < len(CLASS_LIST):\n",
        "                class_counts[cls_id] += 1\n",
        "            else:\n",
        "                print(f\"Warning: Found an invalid class ID '{cls_id}' in {os.path.basename(label_path)}\")\n",
        "\n",
        "    if not class_counts:\n",
        "        print(\"Error: Could not find any class instances in the label files.\")\n",
        "        return\n",
        "\n",
        "    # Prepare data for plotting\n",
        "    # Sort by class ID to maintain a consistent order\n",
        "    sorted_class_ids = sorted(class_counts.keys())\n",
        "\n",
        "    class_names = [CLASS_LIST[i] for i in sorted_class_ids]\n",
        "    counts = [class_counts[i] for i in sorted_class_ids]\n",
        "\n",
        "    print(\"\\nFinal Class Counts:\")\n",
        "    for name, count in zip(class_names, counts):\n",
        "        print(f\"- {name}: {count}\")\n",
        "\n",
        "    # --- Plotting ---\n",
        "    print(\"\\nGenerating plot...\")\n",
        "    plt.style.use('seaborn-v0_8-whitegrid')\n",
        "    plt.figure(figsize=(12, 10)) # Adjusted size for better readability\n",
        "\n",
        "    # Create a horizontal bar plot\n",
        "    ax = sns.barplot(x=counts, y=class_names, palette='viridis', orient='h')\n",
        "\n",
        "    # Add count labels to the end of each bar\n",
        "    for i, count in enumerate(counts):\n",
        "        ax.text(count + 5, i, str(count), color='black', va='center')\n",
        "\n",
        "    # Set titles and labels for clarity\n",
        "    plt.title('Final Class Distribution After Augmentation', fontsize=16)\n",
        "    plt.xlabel('Number of Instances', fontsize=12)\n",
        "    plt.ylabel('Class Name', fontsize=12)\n",
        "\n",
        "    # Adjust layout to prevent labels from being cut off\n",
        "    plt.tight_layout()\n",
        "\n",
        "    # Display the plot\n",
        "    plt.show()\n",
        "\n",
        "\n",
        "# Run the plotting function\n",
        "if __name__ == '__main__':\n",
        "    plot_class_distribution()\n"
      ],
      "metadata": {
        "colab": {
          "base_uri": "https://localhost:8080/",
          "height": 1000
        },
        "id": "dj07DFRI3ONp",
        "outputId": "37e927e3-3c58-450f-c4b4-3ff626314cd1"
      },
      "execution_count": null,
      "outputs": [
        {
          "output_type": "stream",
          "name": "stdout",
          "text": [
            "Scanning for label files in: /content/yolo_dataset/labels/train\n",
            "Found 7758 label files. Counting class instances...\n",
            "\n",
            "Final Class Counts:\n",
            "- rov: 2774\n",
            "- plant: 410\n",
            "- animal_fish: 611\n",
            "- animal_starfish: 262\n",
            "- animal_shells: 280\n",
            "- animal_crab: 298\n",
            "- animal_eel: 259\n",
            "- animal_etc: 170\n",
            "- trash_clothing: 245\n",
            "- trash_pipe: 532\n",
            "- trash_bottle: 444\n",
            "- trash_bag: 806\n",
            "- trash_snack_wrapper: 240\n",
            "- trash_can: 366\n",
            "- trash_cup: 223\n",
            "- trash_container: 477\n",
            "- trash_unknown_instance: 2373\n",
            "- trash_branch: 278\n",
            "- trash_wreckage: 130\n",
            "- trash_tarp: 337\n",
            "- trash_rope: 352\n",
            "- trash_net: 159\n",
            "\n",
            "Generating plot...\n"
          ]
        },
        {
          "output_type": "stream",
          "name": "stderr",
          "text": [
            "/tmp/ipython-input-19-3452203101.py:84: FutureWarning: \n",
            "\n",
            "Passing `palette` without assigning `hue` is deprecated and will be removed in v0.14.0. Assign the `y` variable to `hue` and set `legend=False` for the same effect.\n",
            "\n",
            "  ax = sns.barplot(x=counts, y=class_names, palette='viridis', orient='h')\n"
          ]
        },
        {
          "output_type": "display_data",
          "data": {
            "text/plain": [
              "<Figure size 1200x1000 with 1 Axes>"
            ],
            "image/png": "[encoded data removed]"
          },
          "metadata": {}
        }
      ]
    },
    {
      "cell_type": "markdown",
      "source": [
        "Verifying the Bounding boxes of the augmented images to make sure that the boxes are well aligned. Doing a Final Check."
      ],
      "metadata": {
        "id": "S03AEjP-_0ZX"
      }
    },
    {
      "cell_type": "code",
      "source": [
        "!pip install fiftyOne"
      ],
      "metadata": {
        "colab": {
          "base_uri": "https://localhost:8080/",
          "height": 1000
        },
        "id": "HdUJsMNL_xn9",
        "outputId": "acba3959-211e-4cfd-bb49-cf24a07e1e88"
      },
      "execution_count": null,
      "outputs": [
        {
          "output_type": "stream",
          "name": "stdout",
          "text": [
            "Collecting fiftyOne\n",
            "  Downloading fiftyone-1.7.0-py3-none-any.whl.metadata (21 kB)\n",
            "Requirement already satisfied: aiofiles in /usr/local/lib/python3.11/dist-packages (from fiftyOne) (24.1.0)\n",
            "Collecting argcomplete (from fiftyOne)\n",
            "  Downloading argcomplete-3.6.2-py3-none-any.whl.metadata (16 kB)\n",
            "Collecting async_lru>=2 (from fiftyOne)\n",
            "  Downloading async_lru-2.0.5-py3-none-any.whl.metadata (4.5 kB)\n",
            "Requirement already satisfied: beautifulsoup4 in /usr/local/lib/python3.11/dist-packages (from fiftyOne) (4.13.4)\n",
            "Collecting boto3 (from fiftyOne)\n",
            "  Downloading boto3-1.39.2-py3-none-any.whl.metadata (6.6 kB)\n",
            "Requirement already satisfied: cachetools in /usr/local/lib/python3.11/dist-packages (from fiftyOne) (5.5.2)\n",
            "Collecting dacite<1.8.0,>=1.6.0 (from fiftyOne)\n",
            "  Downloading dacite-1.7.0-py3-none-any.whl.metadata (14 kB)\n",
            "Requirement already satisfied: dill in /usr/local/lib/python3.11/dist-packages (from fiftyOne) (0.3.7)\n",
            "Collecting Deprecated (from fiftyOne)\n",
            "  Downloading Deprecated-1.2.18-py2.py3-none-any.whl.metadata (5.7 kB)\n",
            "Collecting ftfy (from fiftyOne)\n",
            "  Downloading ftfy-6.3.1-py3-none-any.whl.metadata (7.3 kB)\n",
            "Requirement already satisfied: humanize in /usr/local/lib/python3.11/dist-packages (from fiftyOne) (4.12.3)\n",
            "Collecting hypercorn>=0.13.2 (from fiftyOne)\n",
            "  Downloading hypercorn-0.17.3-py3-none-any.whl.metadata (5.4 kB)\n",
            "Requirement already satisfied: Jinja2>=3 in /usr/local/lib/python3.11/dist-packages (from fiftyOne) (3.1.6)\n",
            "Collecting kaleido!=0.2.1.post1 (from fiftyOne)\n",
            "  Downloading kaleido-1.0.0-py3-none-any.whl.metadata (5.6 kB)\n",
            "Requirement already satisfied: matplotlib in /usr/local/lib/python3.11/dist-packages (from fiftyOne) (3.10.0)\n",
            "Collecting mongoengine~=0.29.1 (from fiftyOne)\n",
            "  Downloading mongoengine-0.29.1-py3-none-any.whl.metadata (6.7 kB)\n",
            "Collecting motor~=3.6.0 (from fiftyOne)\n",
            "  Downloading motor-3.6.1-py3-none-any.whl.metadata (21 kB)\n",
            "Requirement already satisfied: numpy in /usr/local/lib/python3.11/dist-packages (from fiftyOne) (2.0.2)\n",
            "Requirement already satisfied: packaging in /usr/local/lib/python3.11/dist-packages (from fiftyOne) (24.2)\n",
            "Requirement already satisfied: pandas in /usr/local/lib/python3.11/dist-packages (from fiftyOne) (2.2.2)\n",
            "Requirement already satisfied: Pillow>=6.2 in /usr/local/lib/python3.11/dist-packages (from fiftyOne) (11.2.1)\n",
            "Requirement already satisfied: plotly>=4.14 in /usr/local/lib/python3.11/dist-packages (from fiftyOne) (5.24.1)\n",
            "Collecting pprintpp (from fiftyOne)\n",
            "  Downloading pprintpp-0.4.0-py2.py3-none-any.whl.metadata (7.9 kB)\n",
            "Requirement already satisfied: psutil in /usr/local/lib/python3.11/dist-packages (from fiftyOne) (5.9.5)\n",
            "Collecting pymongo~=4.9.2 (from fiftyOne)\n",
            "  Downloading pymongo-4.9.2-cp311-cp311-manylinux_2_17_x86_64.manylinux2014_x86_64.whl.metadata (22 kB)\n",
            "Requirement already satisfied: pytz in /usr/local/lib/python3.11/dist-packages (from fiftyOne) (2025.2)\n",
            "Requirement already satisfied: PyYAML in /usr/local/lib/python3.11/dist-packages (from fiftyOne) (6.0.2)\n",
            "Requirement already satisfied: regex in /usr/local/lib/python3.11/dist-packages (from fiftyOne) (2024.11.6)\n",
            "Collecting retrying (from fiftyOne)\n",
            "  Downloading retrying-1.4.0-py3-none-any.whl.metadata (7.5 kB)\n",
            "Collecting rtree (from fiftyOne)\n",
            "  Downloading rtree-1.4.0-py3-none-manylinux2014_x86_64.manylinux_2_17_x86_64.whl.metadata (2.1 kB)\n",
            "Requirement already satisfied: scikit-learn in /usr/local/lib/python3.11/dist-packages (from fiftyOne) (1.6.1)\n",
            "Requirement already satisfied: scikit-image in /usr/local/lib/python3.11/dist-packages (from fiftyOne) (0.25.2)\n",
            "Requirement already satisfied: scipy in /usr/local/lib/python3.11/dist-packages (from fiftyOne) (1.15.3)\n",
            "Requirement already satisfied: setuptools in /usr/local/lib/python3.11/dist-packages (from fiftyOne) (75.2.0)\n",
            "Collecting sseclient-py<2,>=1.7.2 (from fiftyOne)\n",
            "  Downloading sseclient_py-1.8.0-py2.py3-none-any.whl.metadata (2.0 kB)\n",
            "Collecting sse-starlette<1,>=0.10.3 (from fiftyOne)\n",
            "  Downloading sse_starlette-0.10.3-py3-none-any.whl.metadata (4.3 kB)\n",
            "Requirement already satisfied: starlette>=0.24.0 in /usr/local/lib/python3.11/dist-packages (from fiftyOne) (0.46.2)\n",
            "Collecting strawberry-graphql>=0.262.4 (from fiftyOne)\n",
            "  Downloading strawberry_graphql-0.275.5-py3-none-any.whl.metadata (7.4 kB)\n",
            "Requirement already satisfied: tabulate in /usr/local/lib/python3.11/dist-packages (from fiftyOne) (0.9.0)\n",
            "Requirement already satisfied: tqdm in /usr/local/lib/python3.11/dist-packages (from fiftyOne) (4.67.1)\n",
            "Collecting xmltodict (from fiftyOne)\n",
            "  Downloading xmltodict-0.14.2-py2.py3-none-any.whl.metadata (8.0 kB)\n",
            "Collecting universal-analytics-python3<2,>=1.0.1 (from fiftyOne)\n",
            "  Downloading universal_analytics_python3-1.1.1-py3-none-any.whl.metadata (5.5 kB)\n",
            "Collecting pydash (from fiftyOne)\n",
            "  Downloading pydash-8.0.5-py3-none-any.whl.metadata (4.5 kB)\n",
            "Collecting fiftyone-brain<0.22,>=0.21.2 (from fiftyOne)\n",
            "  Downloading fiftyone_brain-0.21.2-py3-none-any.whl.metadata (4.8 kB)\n",
            "Collecting fiftyone-db<2.0,>=0.4 (from fiftyOne)\n",
            "  Downloading fiftyone_db-1.3.0.tar.gz (8.2 kB)\n",
            "  Installing build dependencies ... \u001b[?25l\u001b[?25hdone\n",
            "  Getting requirements to build wheel ... \u001b[?25l\u001b[?25hdone\n",
            "  Preparing metadata (pyproject.toml) ... \u001b[?25l\u001b[?25hdone\n",
            "Collecting voxel51-eta<0.15,>=0.14.2 (from fiftyOne)\n",
            "  Downloading voxel51_eta-0.14.2-py2.py3-none-any.whl.metadata (14 kB)\n",
            "Requirement already satisfied: opencv-python-headless in /usr/local/lib/python3.11/dist-packages (from fiftyOne) (4.11.0.86)\n",
            "Requirement already satisfied: h11 in /usr/local/lib/python3.11/dist-packages (from hypercorn>=0.13.2->fiftyOne) (0.16.0)\n",
            "Requirement already satisfied: h2>=3.1.0 in /usr/local/lib/python3.11/dist-packages (from hypercorn>=0.13.2->fiftyOne) (4.2.0)\n",
            "Collecting priority (from hypercorn>=0.13.2->fiftyOne)\n",
            "  Downloading priority-2.0.0-py3-none-any.whl.metadata (6.6 kB)\n",
            "Collecting wsproto>=0.14.0 (from hypercorn>=0.13.2->fiftyOne)\n",
            "  Downloading wsproto-1.2.0-py3-none-any.whl.metadata (5.6 kB)\n",
            "Requirement already satisfied: MarkupSafe>=2.0 in /usr/local/lib/python3.11/dist-packages (from Jinja2>=3->fiftyOne) (3.0.2)\n",
            "Collecting choreographer>=1.0.5 (from kaleido!=0.2.1.post1->fiftyOne)\n",
            "  Downloading choreographer-1.0.9-py3-none-any.whl.metadata (5.6 kB)\n",
            "Collecting logistro>=1.0.8 (from kaleido!=0.2.1.post1->fiftyOne)\n",
            "  Downloading logistro-1.1.0-py3-none-any.whl.metadata (2.6 kB)\n",
            "Requirement already satisfied: orjson>=3.10.15 in /usr/local/lib/python3.11/dist-packages (from kaleido!=0.2.1.post1->fiftyOne) (3.10.18)\n",
            "Requirement already satisfied: tenacity>=6.2.0 in /usr/local/lib/python3.11/dist-packages (from plotly>=4.14->fiftyOne) (8.5.0)\n",
            "Collecting dnspython<3.0.0,>=1.16.0 (from pymongo~=4.9.2->fiftyOne)\n",
            "  Downloading dnspython-2.7.0-py3-none-any.whl.metadata (5.8 kB)\n",
            "Requirement already satisfied: anyio<5,>=3.6.2 in /usr/local/lib/python3.11/dist-packages (from starlette>=0.24.0->fiftyOne) (4.9.0)\n",
            "Collecting graphql-core<3.4.0,>=3.2.0 (from strawberry-graphql>=0.262.4->fiftyOne)\n",
            "  Downloading graphql_core-3.2.6-py3-none-any.whl.metadata (11 kB)\n",
            "Requirement already satisfied: python-dateutil<3.0,>=2.7 in /usr/local/lib/python3.11/dist-packages (from strawberry-graphql>=0.262.4->fiftyOne) (2.9.0.post0)\n",
            "Requirement already satisfied: typing-extensions>=4.5.0 in /usr/local/lib/python3.11/dist-packages (from strawberry-graphql>=0.262.4->fiftyOne) (4.14.0)\n",
            "Requirement already satisfied: httpx>=0.10.0 in /usr/local/lib/python3.11/dist-packages (from universal-analytics-python3<2,>=1.0.1->fiftyOne) (0.28.1)\n",
            "Requirement already satisfied: future in /usr/local/lib/python3.11/dist-packages (from voxel51-eta<0.15,>=0.14.2->fiftyOne) (1.0.0)\n",
            "Requirement already satisfied: glob2 in /usr/local/lib/python3.11/dist-packages (from voxel51-eta<0.15,>=0.14.2->fiftyOne) (0.7)\n",
            "Collecting jsonlines (from voxel51-eta<0.15,>=0.14.2->fiftyOne)\n",
            "  Downloading jsonlines-4.0.0-py3-none-any.whl.metadata (1.6 kB)\n",
            "Collecting py7zr (from voxel51-eta<0.15,>=0.14.2->fiftyOne)\n",
            "  Downloading py7zr-1.0.0-py3-none-any.whl.metadata (17 kB)\n",
            "Collecting rarfile (from voxel51-eta<0.15,>=0.14.2->fiftyOne)\n",
            "  Downloading rarfile-4.2-py3-none-any.whl.metadata (4.4 kB)\n",
            "Requirement already satisfied: requests in /usr/local/lib/python3.11/dist-packages (from voxel51-eta<0.15,>=0.14.2->fiftyOne) (2.32.3)\n",
            "Requirement already satisfied: six in /usr/local/lib/python3.11/dist-packages (from voxel51-eta<0.15,>=0.14.2->fiftyOne) (1.17.0)\n",
            "Requirement already satisfied: sortedcontainers in /usr/local/lib/python3.11/dist-packages (from voxel51-eta<0.15,>=0.14.2->fiftyOne) (2.4.0)\n",
            "Requirement already satisfied: tzlocal in /usr/local/lib/python3.11/dist-packages (from voxel51-eta<0.15,>=0.14.2->fiftyOne) (5.3.1)\n",
            "Requirement already satisfied: urllib3 in /usr/local/lib/python3.11/dist-packages (from voxel51-eta<0.15,>=0.14.2->fiftyOne) (2.4.0)\n",
            "Requirement already satisfied: soupsieve>1.2 in /usr/local/lib/python3.11/dist-packages (from beautifulsoup4->fiftyOne) (2.7)\n",
            "Collecting botocore<1.40.0,>=1.39.2 (from boto3->fiftyOne)\n",
            "  Downloading botocore-1.39.2-py3-none-any.whl.metadata (5.7 kB)\n",
            "Collecting jmespath<2.0.0,>=0.7.1 (from boto3->fiftyOne)\n",
            "  Downloading jmespath-1.0.1-py3-none-any.whl.metadata (7.6 kB)\n",
            "Collecting s3transfer<0.14.0,>=0.13.0 (from boto3->fiftyOne)\n",
            "  Downloading s3transfer-0.13.0-py3-none-any.whl.metadata (1.7 kB)\n",
            "Requirement already satisfied: wrapt<2,>=1.10 in /usr/local/lib/python3.11/dist-packages (from Deprecated->fiftyOne) (1.17.2)\n",
            "Requirement already satisfied: wcwidth in /usr/local/lib/python3.11/dist-packages (from ftfy->fiftyOne) (0.2.13)\n",
            "Requirement already satisfied: contourpy>=1.0.1 in /usr/local/lib/python3.11/dist-packages (from matplotlib->fiftyOne) (1.3.2)\n",
            "Requirement already satisfied: cycler>=0.10 in /usr/local/lib/python3.11/dist-packages (from matplotlib->fiftyOne) (0.12.1)\n",
            "Requirement already satisfied: fonttools>=4.22.0 in /usr/local/lib/python3.11/dist-packages (from matplotlib->fiftyOne) (4.58.4)\n",
            "Requirement already satisfied: kiwisolver>=1.3.1 in /usr/local/lib/python3.11/dist-packages (from matplotlib->fiftyOne) (1.4.8)\n",
            "Requirement already satisfied: pyparsing>=2.3.1 in /usr/local/lib/python3.11/dist-packages (from matplotlib->fiftyOne) (3.2.3)\n",
            "Requirement already satisfied: tzdata>=2022.7 in /usr/local/lib/python3.11/dist-packages (from pandas->fiftyOne) (2025.2)\n",
            "Requirement already satisfied: networkx>=3.0 in /usr/local/lib/python3.11/dist-packages (from scikit-image->fiftyOne) (3.5)\n",
            "Requirement already satisfied: imageio!=2.35.0,>=2.33 in /usr/local/lib/python3.11/dist-packages (from scikit-image->fiftyOne) (2.37.0)\n",
            "Requirement already satisfied: tifffile>=2022.8.12 in /usr/local/lib/python3.11/dist-packages (from scikit-image->fiftyOne) (2025.6.11)\n",
            "Requirement already satisfied: lazy-loader>=0.4 in /usr/local/lib/python3.11/dist-packages (from scikit-image->fiftyOne) (0.4)\n",
            "Requirement already satisfied: joblib>=1.2.0 in /usr/local/lib/python3.11/dist-packages (from scikit-learn->fiftyOne) (1.5.1)\n",
            "Requirement already satisfied: threadpoolctl>=3.1.0 in /usr/local/lib/python3.11/dist-packages (from scikit-learn->fiftyOne) (3.6.0)\n",
            "Requirement already satisfied: idna>=2.8 in /usr/local/lib/python3.11/dist-packages (from anyio<5,>=3.6.2->starlette>=0.24.0->fiftyOne) (3.10)\n",
            "Requirement already satisfied: sniffio>=1.1 in /usr/local/lib/python3.11/dist-packages (from anyio<5,>=3.6.2->starlette>=0.24.0->fiftyOne) (1.3.1)\n",
            "Requirement already satisfied: simplejson>=3.19.3 in /usr/local/lib/python3.11/dist-packages (from choreographer>=1.0.5->kaleido!=0.2.1.post1->fiftyOne) (3.20.1)\n",
            "Requirement already satisfied: hyperframe<7,>=6.1 in /usr/local/lib/python3.11/dist-packages (from h2>=3.1.0->hypercorn>=0.13.2->fiftyOne) (6.1.0)\n",
            "Requirement already satisfied: hpack<5,>=4.1 in /usr/local/lib/python3.11/dist-packages (from h2>=3.1.0->hypercorn>=0.13.2->fiftyOne) (4.1.0)\n",
            "Requirement already satisfied: certifi in /usr/local/lib/python3.11/dist-packages (from httpx>=0.10.0->universal-analytics-python3<2,>=1.0.1->fiftyOne) (2025.6.15)\n",
            "Requirement already satisfied: httpcore==1.* in /usr/local/lib/python3.11/dist-packages (from httpx>=0.10.0->universal-analytics-python3<2,>=1.0.1->fiftyOne) (1.0.9)\n",
            "Requirement already satisfied: attrs>=19.2.0 in /usr/local/lib/python3.11/dist-packages (from jsonlines->voxel51-eta<0.15,>=0.14.2->fiftyOne) (25.3.0)\n",
            "Collecting texttable (from py7zr->voxel51-eta<0.15,>=0.14.2->fiftyOne)\n",
            "  Downloading texttable-1.7.0-py2.py3-none-any.whl.metadata (9.8 kB)\n",
            "Requirement already satisfied: pycryptodomex>=3.20.0 in /usr/local/lib/python3.11/dist-packages (from py7zr->voxel51-eta<0.15,>=0.14.2->fiftyOne) (3.23.0)\n",
            "Collecting brotli>=1.1.0 (from py7zr->voxel51-eta<0.15,>=0.14.2->fiftyOne)\n",
            "  Downloading Brotli-1.1.0-cp311-cp311-manylinux_2_17_x86_64.manylinux2014_x86_64.whl.metadata (5.5 kB)\n",
            "Collecting pyzstd>=0.16.1 (from py7zr->voxel51-eta<0.15,>=0.14.2->fiftyOne)\n",
            "  Downloading pyzstd-0.17.0-cp311-cp311-manylinux_2_17_x86_64.manylinux2014_x86_64.whl.metadata (2.5 kB)\n",
            "Collecting pyppmd<1.3.0,>=1.1.0 (from py7zr->voxel51-eta<0.15,>=0.14.2->fiftyOne)\n",
            "  Downloading pyppmd-1.2.0-cp311-cp311-manylinux_2_17_x86_64.manylinux2014_x86_64.whl.metadata (5.4 kB)\n",
            "Collecting pybcj<1.1.0,>=1.0.0 (from py7zr->voxel51-eta<0.15,>=0.14.2->fiftyOne)\n",
            "  Downloading pybcj-1.0.6-cp311-cp311-manylinux_2_17_x86_64.manylinux2014_x86_64.whl.metadata (3.7 kB)\n",
            "Collecting multivolumefile>=0.2.3 (from py7zr->voxel51-eta<0.15,>=0.14.2->fiftyOne)\n",
            "  Downloading multivolumefile-0.2.3-py3-none-any.whl.metadata (6.3 kB)\n",
            "Collecting inflate64<1.1.0,>=1.0.0 (from py7zr->voxel51-eta<0.15,>=0.14.2->fiftyOne)\n",
            "  Downloading inflate64-1.0.3-cp311-cp311-manylinux_2_17_x86_64.manylinux2014_x86_64.whl.metadata (4.4 kB)\n",
            "Requirement already satisfied: charset-normalizer<4,>=2 in /usr/local/lib/python3.11/dist-packages (from requests->voxel51-eta<0.15,>=0.14.2->fiftyOne) (3.4.2)\n",
            "Downloading fiftyone-1.7.0-py3-none-any.whl (10.9 MB)\n",
            "\u001b[2K   \u001b[90m━━━━━━━━━━━━━━━━━━━━━━━━━━━━━━━━━━━━━━━━\u001b[0m \u001b[32m10.9/10.9 MB\u001b[0m \u001b[31m98.3 MB/s\u001b[0m eta \u001b[36m0:00:00\u001b[0m\n",
            "\u001b[?25hDownloading async_lru-2.0.5-py3-none-any.whl (6.1 kB)\n",
            "Downloading dacite-1.7.0-py3-none-any.whl (12 kB)\n",
            "Downloading fiftyone_brain-0.21.2-py3-none-any.whl (112 kB)\n",
            "\u001b[2K   \u001b[90m━━━━━━━━━━━━━━━━━━━━━━━━━━━━━━━━━━━━━━━━\u001b[0m \u001b[32m112.3/112.3 kB\u001b[0m \u001b[31m7.9 MB/s\u001b[0m eta \u001b[36m0:00:00\u001b[0m\n",
            "\u001b[?25hDownloading hypercorn-0.17.3-py3-none-any.whl (61 kB)\n",
            "\u001b[2K   \u001b[90m━━━━━━━━━━━━━━━━━━━━━━━━━━━━━━━━━━━━━━━━\u001b[0m \u001b[32m61.7/61.7 kB\u001b[0m \u001b[31m4.2 MB/s\u001b[0m eta \u001b[36m0:00:00\u001b[0m\n",
            "\u001b[?25hDownloading kaleido-1.0.0-py3-none-any.whl (51 kB)\n",
            "\u001b[2K   \u001b[90m━━━━━━━━━━━━━━━━━━━━━━━━━━━━━━━━━━━━━━━━\u001b[0m \u001b[32m51.5/51.5 kB\u001b[0m \u001b[31m2.5 MB/s\u001b[0m eta \u001b[36m0:00:00\u001b[0m\n",
            "\u001b[?25hDownloading mongoengine-0.29.1-py3-none-any.whl (112 kB)\n",
            "\u001b[2K   \u001b[90m━━━━━━━━━━━━━━━━━━━━━━━━━━━━━━━━━━━━━━━━\u001b[0m \u001b[32m112.4/112.4 kB\u001b[0m \u001b[31m4.3 MB/s\u001b[0m eta \u001b[36m0:00:00\u001b[0m\n",
            "\u001b[?25hDownloading motor-3.6.1-py3-none-any.whl (74 kB)\n",
            "\u001b[2K   \u001b[90m━━━━━━━━━━━━━━━━━━━━━━━━━━━━━━━━━━━━━━━━\u001b[0m \u001b[32m74.8/74.8 kB\u001b[0m \u001b[31m3.9 MB/s\u001b[0m eta \u001b[36m0:00:00\u001b[0m\n",
            "\u001b[?25hDownloading pymongo-4.9.2-cp311-cp311-manylinux_2_17_x86_64.manylinux2014_x86_64.whl (1.7 MB)\n",
            "\u001b[2K   \u001b[90m━━━━━━━━━━━━━━━━━━━━━━━━━━━━━━━━━━━━━━━━\u001b[0m \u001b[32m1.7/1.7 MB\u001b[0m \u001b[31m47.9 MB/s\u001b[0m eta \u001b[36m0:00:00\u001b[0m\n",
            "\u001b[?25hDownloading sse_starlette-0.10.3-py3-none-any.whl (8.0 kB)\n",
            "Downloading sseclient_py-1.8.0-py2.py3-none-any.whl (8.8 kB)\n",
            "Downloading strawberry_graphql-0.275.5-py3-none-any.whl (306 kB)\n",
            "\u001b[2K   \u001b[90m━━━━━━━━━━━━━━━━━━━━━━━━━━━━━━━━━━━━━━━━\u001b[0m \u001b[32m306.3/306.3 kB\u001b[0m \u001b[31m11.8 MB/s\u001b[0m eta \u001b[36m0:00:00\u001b[0m\n",
            "\u001b[?25hDownloading universal_analytics_python3-1.1.1-py3-none-any.whl (10 kB)\n",
            "Downloading voxel51_eta-0.14.2-py2.py3-none-any.whl (943 kB)\n",
            "\u001b[2K   \u001b[90m━━━━━━━━━━━━━━━━━━━━━━━━━━━━━━━━━━━━━━━━\u001b[0m \u001b[32m943.0/943.0 kB\u001b[0m \u001b[31m32.7 MB/s\u001b[0m eta \u001b[36m0:00:00\u001b[0m\n",
            "\u001b[?25hDownloading argcomplete-3.6.2-py3-none-any.whl (43 kB)\n",
            "\u001b[2K   \u001b[90m━━━━━━━━━━━━━━━━━━━━━━━━━━━━━━━━━━━━━━━━\u001b[0m \u001b[32m43.7/43.7 kB\u001b[0m \u001b[31m3.0 MB/s\u001b[0m eta \u001b[36m0:00:00\u001b[0m\n",
            "\u001b[?25hDownloading boto3-1.39.2-py3-none-any.whl (139 kB)\n",
            "\u001b[2K   \u001b[90m━━━━━━━━━━━━━━━━━━━━━━━━━━━━━━━━━━━━━━━━\u001b[0m \u001b[32m139.9/139.9 kB\u001b[0m \u001b[31m7.5 MB/s\u001b[0m eta \u001b[36m0:00:00\u001b[0m\n",
            "\u001b[?25hDownloading Deprecated-1.2.18-py2.py3-none-any.whl (10.0 kB)\n",
            "Downloading ftfy-6.3.1-py3-none-any.whl (44 kB)\n",
            "\u001b[2K   \u001b[90m━━━━━━━━━━━━━━━━━━━━━━━━━━━━━━━━━━━━━━━━\u001b[0m \u001b[32m44.8/44.8 kB\u001b[0m \u001b[31m3.0 MB/s\u001b[0m eta \u001b[36m0:00:00\u001b[0m\n",
            "\u001b[?25hDownloading pprintpp-0.4.0-py2.py3-none-any.whl (16 kB)\n",
            "Downloading pydash-8.0.5-py3-none-any.whl (102 kB)\n",
            "\u001b[2K   \u001b[90m━━━━━━━━━━━━━━━━━━━━━━━━━━━━━━━━━━━━━━━━\u001b[0m \u001b[32m102.1/102.1 kB\u001b[0m \u001b[31m4.8 MB/s\u001b[0m eta \u001b[36m0:00:00\u001b[0m\n",
            "\u001b[?25hDownloading retrying-1.4.0-py3-none-any.whl (11 kB)\n",
            "Downloading rtree-1.4.0-py3-none-manylinux2014_x86_64.manylinux_2_17_x86_64.whl (541 kB)\n",
            "\u001b[2K   \u001b[90m━━━━━━━━━━━━━━━━━━━━━━━━━━━━━━━━━━━━━━━━\u001b[0m \u001b[32m541.1/541.1 kB\u001b[0m \u001b[31m22.4 MB/s\u001b[0m eta \u001b[36m0:00:00\u001b[0m\n",
            "\u001b[?25hDownloading xmltodict-0.14.2-py2.py3-none-any.whl (10.0 kB)\n",
            "Downloading botocore-1.39.2-py3-none-any.whl (13.8 MB)\n",
            "\u001b[2K   \u001b[90m━━━━━━━━━━━━━━━━━━━━━━━━━━━━━━━━━━━━━━━━\u001b[0m \u001b[32m13.8/13.8 MB\u001b[0m \u001b[31m20.4 MB/s\u001b[0m eta \u001b[36m0:00:00\u001b[0m\n",
            "\u001b[?25hDownloading choreographer-1.0.9-py3-none-any.whl (51 kB)\n",
            "\u001b[2K   \u001b[90m━━━━━━━━━━━━━━━━━━━━━━━━━━━━━━━━━━━━━━━━\u001b[0m \u001b[32m51.3/51.3 kB\u001b[0m \u001b[31m2.6 MB/s\u001b[0m eta \u001b[36m0:00:00\u001b[0m\n",
            "\u001b[?25hDownloading dnspython-2.7.0-py3-none-any.whl (313 kB)\n",
            "\u001b[2K   \u001b[90m━━━━━━━━━━━━━━━━━━━━━━━━━━━━━━━━━━━━━━━━\u001b[0m \u001b[32m313.6/313.6 kB\u001b[0m \u001b[31m20.7 MB/s\u001b[0m eta \u001b[36m0:00:00\u001b[0m\n",
            "\u001b[?25hDownloading graphql_core-3.2.6-py3-none-any.whl (203 kB)\n",
            "\u001b[2K   \u001b[90m━━━━━━━━━━━━━━━━━━━━━━━━━━━━━━━━━━━━━━━━\u001b[0m \u001b[32m203.4/203.4 kB\u001b[0m \u001b[31m12.7 MB/s\u001b[0m eta \u001b[36m0:00:00\u001b[0m\n",
            "\u001b[?25hDownloading jmespath-1.0.1-py3-none-any.whl (20 kB)\n",
            "Downloading logistro-1.1.0-py3-none-any.whl (7.9 kB)\n",
            "Downloading s3transfer-0.13.0-py3-none-any.whl (85 kB)\n",
            "\u001b[2K   \u001b[90m━━━━━━━━━━━━━━━━━━━━━━━━━━━━━━━━━━━━━━━━\u001b[0m \u001b[32m85.2/85.2 kB\u001b[0m \u001b[31m6.3 MB/s\u001b[0m eta \u001b[36m0:00:00\u001b[0m\n",
            "\u001b[?25hDownloading wsproto-1.2.0-py3-none-any.whl (24 kB)\n",
            "Downloading jsonlines-4.0.0-py3-none-any.whl (8.7 kB)\n",
            "Downloading priority-2.0.0-py3-none-any.whl (8.9 kB)\n",
            "Downloading py7zr-1.0.0-py3-none-any.whl (69 kB)\n",
            "\u001b[2K   \u001b[90m━━━━━━━━━━━━━━━━━━━━━━━━━━━━━━━━━━━━━━━━\u001b[0m \u001b[32m69.7/69.7 kB\u001b[0m \u001b[31m4.6 MB/s\u001b[0m eta \u001b[36m0:00:00\u001b[0m\n",
            "\u001b[?25hDownloading rarfile-4.2-py3-none-any.whl (29 kB)\n",
            "Downloading Brotli-1.1.0-cp311-cp311-manylinux_2_17_x86_64.manylinux2014_x86_64.whl (2.9 MB)\n",
            "\u001b[2K   \u001b[90m━━━━━━━━━━━━━━━━━━━━━━━━━━━━━━━━━━━━━━━━\u001b[0m \u001b[32m2.9/2.9 MB\u001b[0m \u001b[31m63.3 MB/s\u001b[0m eta \u001b[36m0:00:00\u001b[0m\n",
            "\u001b[?25hDownloading inflate64-1.0.3-cp311-cp311-manylinux_2_17_x86_64.manylinux2014_x86_64.whl (96 kB)\n",
            "\u001b[2K   \u001b[90m━━━━━━━━━━━━━━━━━━━━━━━━━━━━━━━━━━━━━━━━\u001b[0m \u001b[32m96.4/96.4 kB\u001b[0m \u001b[31m7.0 MB/s\u001b[0m eta \u001b[36m0:00:00\u001b[0m\n",
            "\u001b[?25hDownloading multivolumefile-0.2.3-py3-none-any.whl (17 kB)\n",
            "Downloading pybcj-1.0.6-cp311-cp311-manylinux_2_17_x86_64.manylinux2014_x86_64.whl (50 kB)\n",
            "\u001b[2K   \u001b[90m━━━━━━━━━━━━━━━━━━━━━━━━━━━━━━━━━━━━━━━━\u001b[0m \u001b[32m50.7/50.7 kB\u001b[0m \u001b[31m3.9 MB/s\u001b[0m eta \u001b[36m0:00:00\u001b[0m\n",
            "\u001b[?25hDownloading pyppmd-1.2.0-cp311-cp311-manylinux_2_17_x86_64.manylinux2014_x86_64.whl (141 kB)\n",
            "\u001b[2K   \u001b[90m━━━━━━━━━━━━━━━━━━━━━━━━━━━━━━━━━━━━━━━━\u001b[0m \u001b[32m141.3/141.3 kB\u001b[0m \u001b[31m8.2 MB/s\u001b[0m eta \u001b[36m0:00:00\u001b[0m\n",
            "\u001b[?25hDownloading pyzstd-0.17.0-cp311-cp311-manylinux_2_17_x86_64.manylinux2014_x86_64.whl (412 kB)\n",
            "\u001b[2K   \u001b[90m━━━━━━━━━━━━━━━━━━━━━━━━━━━━━━━━━━━━━━━━\u001b[0m \u001b[32m412.9/412.9 kB\u001b[0m \u001b[31m18.6 MB/s\u001b[0m eta \u001b[36m0:00:00\u001b[0m\n",
            "\u001b[?25hDownloading texttable-1.7.0-py2.py3-none-any.whl (10 kB)\n",
            "Building wheels for collected packages: fiftyone-db\n",
            "  Building wheel for fiftyone-db (pyproject.toml) ... \u001b[?25l\u001b[?25hdone\n",
            "  Created wheel for fiftyone-db: filename=fiftyone_db-1.3.0-py3-none-manylinux1_x86_64.whl size=42156245 sha256=b6a611c162389444cee66fbb7559302c89a457a57774c3365c2bf02fa5ab6b67\n",
            "  Stored in directory: /root/.cache/pip/wheels/4d/42/2f/67d2c5896157c73671b965144411c2e39148aa27b66833993d\n",
            "Successfully built fiftyone-db\n",
            "Installing collected packages: texttable, sseclient-py, pprintpp, brotli, xmltodict, wsproto, rtree, retrying, rarfile, pyzstd, pyppmd, pydash, pybcj, priority, multivolumefile, logistro, jsonlines, jmespath, inflate64, graphql-core, ftfy, fiftyone-db, dnspython, Deprecated, dacite, async_lru, argcomplete, strawberry-graphql, pymongo, py7zr, hypercorn, choreographer, botocore, voxel51-eta, universal-analytics-python3, sse-starlette, s3transfer, motor, mongoengine, kaleido, fiftyone-brain, boto3, fiftyOne\n",
            "Successfully installed Deprecated-1.2.18 argcomplete-3.6.2 async_lru-2.0.5 boto3-1.39.2 botocore-1.39.2 brotli-1.1.0 choreographer-1.0.9 dacite-1.7.0 dnspython-2.7.0 fiftyOne-1.7.0 fiftyone-brain-0.21.2 fiftyone-db-1.3.0 ftfy-6.3.1 graphql-core-3.2.6 hypercorn-0.17.3 inflate64-1.0.3 jmespath-1.0.1 jsonlines-4.0.0 kaleido-1.0.0 logistro-1.1.0 mongoengine-0.29.1 motor-3.6.1 multivolumefile-0.2.3 pprintpp-0.4.0 priority-2.0.0 py7zr-1.0.0 pybcj-1.0.6 pydash-8.0.5 pymongo-4.9.2 pyppmd-1.2.0 pyzstd-0.17.0 rarfile-4.2 retrying-1.4.0 rtree-1.4.0 s3transfer-0.13.0 sse-starlette-0.10.3 sseclient-py-1.8.0 strawberry-graphql-0.275.5 texttable-1.7.0 universal-analytics-python3-1.1.1 voxel51-eta-0.14.2 wsproto-1.2.0 xmltodict-0.14.2\n"
          ]
        },
        {
          "output_type": "display_data",
          "data": {
            "application/vnd.colab-display-data+json": {
              "pip_warning": {
                "packages": [
                  "site"
                ]
              },
              "id": "a6dd858fa8424bd6b62ff6b97eb32354"
            }
          },
          "metadata": {}
        }
      ]
    },
    {
      "cell_type": "markdown",
      "source": [
        "129 images will be skipped by YOLO models as they dont have any bounding boxes."
      ],
      "metadata": {
        "id": "eIEeO43u3wdd"
      }
    },
    {
      "cell_type": "code",
      "source": [
        "import os\n",
        "from glob import glob\n",
        "\n",
        "image_dir = \"/content/yolo_dataset/images/train\"\n",
        "label_dir = \"/content/yolo_dataset/labels/train\"\n",
        "\n",
        "# Supported image extensions\n",
        "image_paths = glob(os.path.join(image_dir, \"*.jpg\")) + glob(os.path.join(image_dir, \"*.png\"))\n",
        "\n",
        "no_annotation_images = []\n",
        "\n",
        "for img_path in image_paths:\n",
        "    base = os.path.splitext(os.path.basename(img_path))[0]\n",
        "    label_path = os.path.join(label_dir, base + \".txt\")\n",
        "\n",
        "    if not os.path.exists(label_path):\n",
        "        no_annotation_images.append(img_path)\n",
        "        continue\n",
        "\n",
        "    with open(label_path, \"r\") as f:\n",
        "        content = f.read().strip()\n",
        "        if len(content) == 0:\n",
        "            no_annotation_images.append(img_path)\n",
        "\n",
        "print(f\"Found {len(no_annotation_images)} images with no annotations.\")\n",
        "\n"
      ],
      "metadata": {
        "colab": {
          "base_uri": "https://localhost:8080/"
        },
        "id": "LvgWwYCF3rso",
        "outputId": "8595a4af-ff64-4cd5-999d-6aa7abee0a3a"
      },
      "execution_count": null,
      "outputs": [
        {
          "output_type": "stream",
          "name": "stdout",
          "text": [
            "Found 129 images with no annotations.\n"
          ]
        }
      ]
    },
    {
      "cell_type": "code",
      "source": [
        "import fiftyone as fo\n",
        "import fiftyone.types as fot\n",
        "\n",
        "dataset = fo.Dataset.from_dir(\n",
        "    dataset_dir=\"/content/yolo_dataset\",     # root folder with images/ and labels/\n",
        "    dataset_type=fot.YOLOv5Dataset,\n",
        "    split=\"train\",                            # folder under images/ and labels/\n",
        "    name=\"underwater-trash-yolo\"\n",
        ")\n",
        "\n",
        "session = fo.launch_app(dataset, remote=True)\n"
      ],
      "metadata": {
        "colab": {
          "base_uri": "https://localhost:8080/",
          "height": 1000
        },
        "id": "UMRy8GU-_zRT",
        "outputId": "24e0f295-12a5-43f1-b81c-b200b7277fc9"
      },
      "execution_count": null,
      "outputs": [
        {
          "output_type": "stream",
          "name": "stdout",
          "text": [
            " 100% |███████████████| 7758/7758 [16.2s elapsed, 0s remaining, 472.5 samples/s]      \n"
          ]
        },
        {
          "output_type": "stream",
          "name": "stderr",
          "text": [
            "INFO:eta.core.utils: 100% |███████████████| 7758/7758 [16.2s elapsed, 0s remaining, 472.5 samples/s]      \n"
          ]
        },
        {
          "output_type": "display_data",
          "data": {
            "text/plain": [
              "<IPython.core.display.HTML object>"
            ],
            "text/html": [
              "\n",
              "<style>\n",
              "\n",
              "@import url(\"https://fonts.googleapis.com/css2?family=Palanquin&display=swap\");\n",
              "\n",
              "body, html {\n",
              "  margin: 0;\n",
              "  padding: 0;\n",
              "  width: 100%;\n",
              "}\n",
              "\n",
              "#focontainer-80044d83-2885-4a53-b438-007227eca193 {\n",
              "  position: relative;\n",
              "  height: px;\n",
              "  display: block !important;\n",
              "}\n",
              "#foactivate-80044d83-2885-4a53-b438-007227eca193 {\n",
              "  font-weight: bold;\n",
              "  cursor: pointer;\n",
              "  font-size: 24px;\n",
              "  border-radius: 3px;\n",
              "  text-align: center;\n",
              "  padding: 0.5em;\n",
              "  color: rgb(255, 255, 255);\n",
              "  font-family: \"Palanquin\", sans-serif;\n",
              "  position: absolute;\n",
              "  left: 50%;\n",
              "  top: 50%;\n",
              "  width: 160px;\n",
              "  margin-left: -80px;\n",
              "  margin-top: -23px;\n",
              "  background: hsla(210,11%,15%, 0.8);\n",
              "  border: none;\n",
              "}\n",
              "#foactivate-80044d83-2885-4a53-b438-007227eca193:focus {\n",
              "  outline: none;\n",
              "}\n",
              "#fooverlay-80044d83-2885-4a53-b438-007227eca193 {\n",
              "  width: 100%;\n",
              "  height: 100%;\n",
              "  background: hsla(208, 7%, 46%, 0.7);\n",
              "  position: absolute;\n",
              "  top: 0;\n",
              "  left: 0;\n",
              "  display: none;\n",
              "  cursor: pointer;\n",
              "}\n",
              "</style>\n",
              "<div id=\"focontainer-80044d83-2885-4a53-b438-007227eca193\" style=\"display: none;\">\n",
              "   <div id=\"fooverlay-80044d83-2885-4a53-b438-007227eca193\">\n",
              "      <button id=\"foactivate-80044d83-2885-4a53-b438-007227eca193\" >Activate</button>\n",
              "   </div>\n",
              "</div>"
            ]
          },
          "metadata": {}
        },
        {
          "output_type": "error",
          "ename": "ValueError",
          "evalue": "Remote sessions cannot be run from a notebook",
          "traceback": [
            "\u001b[0;31m---------------------------------------------------------------------------\u001b[0m",
            "\u001b[0;31mValueError\u001b[0m                                Traceback (most recent call last)",
            "\u001b[0;32m/tmp/ipython-input-2-600699474.py\u001b[0m in \u001b[0;36m<cell line: 0>\u001b[0;34m()\u001b[0m\n\u001b[1;32m      9\u001b[0m )\n\u001b[1;32m     10\u001b[0m \u001b[0;34m\u001b[0m\u001b[0m\n\u001b[0;32m---> 11\u001b[0;31m \u001b[0msession\u001b[0m \u001b[0;34m=\u001b[0m \u001b[0mfo\u001b[0m\u001b[0;34m.\u001b[0m\u001b[0mlaunch_app\u001b[0m\u001b[0;34m(\u001b[0m\u001b[0mdataset\u001b[0m\u001b[0;34m,\u001b[0m \u001b[0mremote\u001b[0m\u001b[0;34m=\u001b[0m\u001b[0;32mTrue\u001b[0m\u001b[0;34m)\u001b[0m\u001b[0;34m\u001b[0m\u001b[0;34m\u001b[0m\u001b[0m\n\u001b[0m",
            "\u001b[0;32m/usr/local/lib/python3.11/dist-packages/fiftyone/core/session/session.py\u001b[0m in \u001b[0;36mlaunch_app\u001b[0;34m(dataset, view, sample_id, group_id, spaces, color_scheme, plots, port, address, remote, browser, height, auto, config)\u001b[0m\n\u001b[1;32m    190\u001b[0m     \"\"\"\n\u001b[1;32m    191\u001b[0m     \u001b[0;32mglobal\u001b[0m \u001b[0m_session\u001b[0m  \u001b[0;31m# pylint: disable=global-statement\u001b[0m\u001b[0;34m\u001b[0m\u001b[0;34m\u001b[0m\u001b[0m\n\u001b[0;32m--> 192\u001b[0;31m     _session = Session(\n\u001b[0m\u001b[1;32m    193\u001b[0m         \u001b[0mdataset\u001b[0m\u001b[0;34m=\u001b[0m\u001b[0mdataset\u001b[0m\u001b[0;34m,\u001b[0m\u001b[0;34m\u001b[0m\u001b[0;34m\u001b[0m\u001b[0m\n\u001b[1;32m    194\u001b[0m         \u001b[0mview\u001b[0m\u001b[0;34m=\u001b[0m\u001b[0mview\u001b[0m\u001b[0;34m,\u001b[0m\u001b[0;34m\u001b[0m\u001b[0;34m\u001b[0m\u001b[0m\n",
            "\u001b[0;32m/usr/local/lib/python3.11/dist-packages/fiftyone/core/session/session.py\u001b[0m in \u001b[0;36m__init__\u001b[0;34m(self, dataset, view, sample_id, group_id, spaces, color_scheme, plots, port, address, remote, browser, height, auto, config, view_name)\u001b[0m\n\u001b[1;32m    439\u001b[0m         \u001b[0;32mif\u001b[0m \u001b[0mself\u001b[0m\u001b[0;34m.\u001b[0m\u001b[0mremote\u001b[0m\u001b[0;34m:\u001b[0m\u001b[0;34m\u001b[0m\u001b[0;34m\u001b[0m\u001b[0m\n\u001b[1;32m    440\u001b[0m             \u001b[0;32mif\u001b[0m \u001b[0mfocx\u001b[0m\u001b[0;34m.\u001b[0m\u001b[0mis_notebook_context\u001b[0m\u001b[0;34m(\u001b[0m\u001b[0;34m)\u001b[0m\u001b[0;34m:\u001b[0m\u001b[0;34m\u001b[0m\u001b[0;34m\u001b[0m\u001b[0m\n\u001b[0;32m--> 441\u001b[0;31m                 raise ValueError(\n\u001b[0m\u001b[1;32m    442\u001b[0m                     \u001b[0;34m\"Remote sessions cannot be run from a notebook\"\u001b[0m\u001b[0;34m\u001b[0m\u001b[0;34m\u001b[0m\u001b[0m\n\u001b[1;32m    443\u001b[0m                 )\n",
            "\u001b[0;31mValueError\u001b[0m: Remote sessions cannot be run from a notebook"
          ]
        }
      ]
    },
    {
      "cell_type": "markdown",
      "source": [
        "Creating yaml file which is necessary for training."
      ],
      "metadata": {
        "id": "lBCaTHMc2BMp"
      }
    },
    {
      "cell_type": "code",
      "source": [
        "yaml_content = \"\"\"\n",
        "train: /content/yolo_dataset/images/train\n",
        "val: /content/yolo_dataset/images/val\n",
        "\n",
        "nc: 22\n",
        "names:\n",
        "  - rov\n",
        "  - plant\n",
        "  - animal_fish\n",
        "  - animal_starfish\n",
        "  - animal_shells\n",
        "  - animal_crab\n",
        "  - animal_eel\n",
        "  - animal_etc\n",
        "  - trash_clothing\n",
        "  - trash_pipe\n",
        "  - trash_bottle\n",
        "  - trash_bag\n",
        "  - trash_snack_wrapper\n",
        "  - trash_can\n",
        "  - trash_cup\n",
        "  - trash_container\n",
        "  - trash_unknown_instance\n",
        "  - trash_branch\n",
        "  - trash_wreckage\n",
        "  - trash_tarp\n",
        "  - trash_rope\n",
        "  - trash_net\n",
        "\"\"\"\n",
        "\n",
        "with open(\"/content/yolo_dataset/dataset.yaml\", \"w\") as f:\n",
        "    f.write(yaml_content)\n"
      ],
      "metadata": {
        "id": "iuQ7GZ6hC8Dw"
      },
      "execution_count": null,
      "outputs": []
    },
    {
      "cell_type": "markdown",
      "source": [
        "Importing Cleaned and Augmented dataset which can be used for training."
      ],
      "metadata": {
        "id": "ZPkB25mF2Gdq"
      }
    },
    {
      "cell_type": "code",
      "source": [
        "import shutil\n",
        "\n",
        "shutil.make_archive(\"yolo_dataset\", 'zip', \"/content/yolo_dataset\")\n"
      ],
      "metadata": {
        "colab": {
          "base_uri": "https://localhost:8080/",
          "height": 36
        },
        "id": "hoP6nHlpwro7",
        "outputId": "ca9e3988-e92d-4c56-db63-2af228b523b4"
      },
      "execution_count": null,
      "outputs": [
        {
          "output_type": "execute_result",
          "data": {
            "text/plain": [
              "'/content/yolo_dataset.zip'"
            ],
            "application/vnd.google.colaboratory.intrinsic+json": {
              "type": "string"
            }
          },
          "metadata": {},
          "execution_count": 3
        }
      ]
    },
    {
      "cell_type": "code",
      "source": [
        "from google.colab import files\n",
        "\n",
        "files.download(\"/content/yolo_dataset.zip\")\n"
      ],
      "metadata": {
        "colab": {
          "base_uri": "https://localhost:8080/",
          "height": 17
        },
        "id": "nBAqboSmw0T1",
        "outputId": "dd38e40f-1301-4758-e110-9f70bd25a582"
      },
      "execution_count": null,
      "outputs": [
        {
          "output_type": "display_data",
          "data": {
            "text/plain": [
              "<IPython.core.display.Javascript object>"
            ],
            "application/javascript": [
              "\n",
              "    async function download(id, filename, size) {\n",
              "      if (!google.colab.kernel.accessAllowed) {\n",
              "        return;\n",
              "      }\n",
              "      const div = document.createElement('div');\n",
              "      const label = document.createElement('label');\n",
              "      label.textContent = `Downloading \"${filename}\": `;\n",
              "      div.appendChild(label);\n",
              "      const progress = document.createElement('progress');\n",
              "      progress.max = size;\n",
              "      div.appendChild(progress);\n",
              "      document.body.appendChild(div);\n",
              "\n",
              "      const buffers = [];\n",
              "      let downloaded = 0;\n",
              "\n",
              "      const channel = await google.colab.kernel.comms.open(id);\n",
              "      // Send a message to notify the kernel that we're ready.\n",
              "      channel.send({})\n",
              "\n",
              "      for await (const message of channel.messages) {\n",
              "        // Send a message to notify the kernel that we're ready.\n",
              "        channel.send({})\n",
              "        if (message.buffers) {\n",
              "          for (const buffer of message.buffers) {\n",
              "            buffers.push(buffer);\n",
              "            downloaded += buffer.byteLength;\n",
              "            progress.value = downloaded;\n",
              "          }\n",
              "        }\n",
              "      }\n",
              "      const blob = new Blob(buffers, {type: 'application/binary'});\n",
              "      const a = document.createElement('a');\n",
              "      a.href = window.URL.createObjectURL(blob);\n",
              "      a.download = filename;\n",
              "      div.appendChild(a);\n",
              "      a.click();\n",
              "      div.remove();\n",
              "    }\n",
              "  "
            ]
          },
          "metadata": {}
        },
        {
          "output_type": "display_data",
          "data": {
            "text/plain": [
              "<IPython.core.display.Javascript object>"
            ],
            "application/javascript": [
              "download(\"download_9a1dfc3b-ce2b-4031-849b-8e2cfe5e90ab\", \"yolo_dataset.zip\", 235976084)"
            ]
          },
          "metadata": {}
        }
      ]
    }
  ]
}